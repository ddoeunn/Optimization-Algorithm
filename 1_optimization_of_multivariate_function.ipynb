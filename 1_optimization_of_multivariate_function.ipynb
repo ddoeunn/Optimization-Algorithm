{
  "nbformat": 4,
  "nbformat_minor": 0,
  "metadata": {
    "kernelspec": {
      "display_name": "Python 3",
      "language": "python",
      "name": "python3"
    },
    "language_info": {
      "codemirror_mode": {
        "name": "ipython",
        "version": 3
      },
      "file_extension": ".py",
      "mimetype": "text/x-python",
      "name": "python",
      "nbconvert_exporter": "python",
      "pygments_lexer": "ipython3",
      "version": "3.7.6"
    },
    "toc": {
      "base_numbering": 1,
      "nav_menu": {},
      "number_sections": false,
      "sideBar": true,
      "skip_h1_title": false,
      "title_cell": "Table of Contents",
      "title_sidebar": "Contents",
      "toc_cell": false,
      "toc_position": {
        "height": "calc(100% - 180px)",
        "left": "10px",
        "top": "150px",
        "width": "256px"
      },
      "toc_section_display": true,
      "toc_window_display": true
    },
    "varInspector": {
      "cols": {
        "lenName": 16,
        "lenType": 16,
        "lenVar": 40
      },
      "kernels_config": {
        "python": {
          "delete_cmd_postfix": "",
          "delete_cmd_prefix": "del ",
          "library": "var_list.py",
          "varRefreshCmd": "print(var_dic_list())"
        },
        "r": {
          "delete_cmd_postfix": ") ",
          "delete_cmd_prefix": "rm(",
          "library": "var_list.r",
          "varRefreshCmd": "cat(var_dic_list()) "
        }
      },
      "types_to_exclude": [
        "module",
        "function",
        "builtin_function_or_method",
        "instance",
        "_Feature"
      ],
      "window_display": false
    },
    "colab": {
      "name": "1. optimization of multivariate function.ipynb",
      "provenance": [],
      "collapsed_sections": [],
      "toc_visible": true
    }
  },
  "cells": [
    {
      "cell_type": "markdown",
      "metadata": {
        "id": "khKKKTVIZ8hm",
        "colab_type": "text"
      },
      "source": [
        "# ***OPTIMIZATION OF MULTIVARIATE FUNCTIONS*** \n"
      ]
    },
    {
      "cell_type": "markdown",
      "metadata": {
        "id": "kOw7xZ5uZ8ho",
        "colab_type": "text"
      },
      "source": [
        ">* Assume that $f$ is a multivariate real function $f: \\mathbb{R}^p \\rightarrow \\mathbb{R}$  \n",
        "that has only one true or exact minimizer $\\mathbf{x}^* = argmin_{\\mathbf{x} \\in \\mathit{D}}f(\\mathbf{x})$  \n",
        "* Several algorithms for obtaining a sequence $\\{\\mathbf{x}_n\\}_{n \\ge 1}$  \n",
        "that satisfies $\\exists N \\in \\mathbb{N}$ s.t. $\\rVert\\mathbf{x}_n-\\mathbf{x}^*\\rVert < \\epsilon, \\forall n \\ge N$ for a given error bound $\\epsilon > 0$  \n",
        "* For the sequence above, put $\\hat{\\mathbf{x}} = \\mathbf{x}_N$ as an approximated minimizer of $\\mathbf{x}^*$"
      ]
    },
    {
      "cell_type": "markdown",
      "metadata": {
        "id": "BObdlot8Z8hp",
        "colab_type": "text"
      },
      "source": [
        "---\n",
        "# **1. Coordinate Descent Algorithm**"
      ]
    },
    {
      "cell_type": "markdown",
      "metadata": {
        "id": "lOA-HjCoZ8hq",
        "colab_type": "text"
      },
      "source": [
        "## **Algorithm**  \n",
        "* Iteratively solves univariate minimization problems for minimizing a function  \n",
        "* Given an initial value $\\mathbf{x}_1 = (x_{11}, \\cdots, x_{1p})^{T}$  \n",
        "$f(\\mathbf{x_1}) \\ge f(x_{21}, x_{12}, x_{13}, \\cdots, x_{1p}) \\ge f(x_{21}, x_{22}, x_{13}, \\cdots, x_{1p}) \\ge \\cdots \\ge f(x_{21}, x_{22}, x_{23}, \\cdots, x_{2p})$  \n",
        ",where $x_{21} = argmin_{t \\in \\mathbb{R}}f(t, x_{12}, x_{13}, \\cdots, x_{1p}), \\cdots, \n",
        "x_{2p}= argmin_{t \\in \\mathbb{R}}f(x_{21}, x_{22}, x_{23}, \\cdots, t)$   \n",
        "so that we eventually have $f(\\mathbf{x}_1) \\ge f(\\mathbf{x}_2)$ ,where $\\mathbf{x}_2 = (x_{21}, x_{22}, \\cdots, x_{2p} )^{T}$  \n",
        "\n",
        ">1. Take an initial $\\mathbf{x}_1 = (x_{11}, \\cdots, x_{1p})^{T}$  \n",
        "2. For $n = 1, 2, \\cdots, $  \n",
        "    (1) For $j=1, 2, \\cdots, p$  \n",
        "    $x_{(n+1)j} = argmin_{t \\in \\mathbb{R}}f(x_{(n+1)1}, \\cdots, x_{(n+1)(j-1)}, t, x_{n(j+1)}, \\cdots, x_{np})$  \n",
        "3. If $\\rVert\\mathbf{x}_{n+1}-\\mathbf{x}_n\\rVert < \\epsilon$ then stop, where $\\mathbf{x}_{n+1} = (x_{(n+1)1}, x_{(n+1)2}, \\cdots, x_{(n+1)p})^{T}$  \n",
        "4. Set $\\hat{\\mathbf{x}} = \\mathbf{x}_n$  \n",
        "\n"
      ]
    },
    {
      "cell_type": "markdown",
      "metadata": {
        "id": "FlMvcYwSZ8hr",
        "colab_type": "text"
      },
      "source": [
        "* **the key step is the minimization in (1)**  \n",
        "    + If it has closed form we are lucky.  \n",
        "    + If not, we need to solve univariate minimization problem.  \n",
        "    + If $f$ is differentiable then (1) can be done by solving $\\frac{df(x_{(n+1)1}, \\cdots, x_{(n+1)(j-1)}, t, x_{n(j+1)}, \\cdots, x_{np})}{dt} = 0$  \n",
        "    \n",
        "* **If $f$ is convex but not differentiable then the algorithm may stuck in a point that is not a local minimizer**  \n",
        ": $f(x, y) = (x-y)^2 +(x+y)^2 + |x-y| + 10|x+y|$  \n",
        "\n",
        "* **Tseng(2001) proved that the CD algorithm always converges to a local minimizer**  \n",
        "**if $f(\\mathbf{x}) = g(\\mathbf{x}) + \\sum^{p}_{j=1}h_j(x_j)$ where $g$ is convex differenctiable and $h_j$ is convex but may not differentiable for all $j \\le p$**  \n",
        ": $f(x, y) = x^2 + y^2 + |x| + 10|y|$"
      ]
    },
    {
      "cell_type": "markdown",
      "metadata": {
        "id": "kbb5XU7bZ8hr",
        "colab_type": "text"
      },
      "source": [
        "## **[Example - LSE]**  \n",
        "* Consider Linear regression model, $\\mathbf{y} = \\mathbf{X}\\mathbf{\\beta} + \\mathbf{\\epsilon}$  \n",
        ",where $\\mathbf{y} = (y_1, \\cdots, y_n)^{T}$ is a vector of response, $\\mathbf{X} = (\\mathbf{X}_1, \\cdots, \\mathbf{X}_p)$ is a design matrix, $\\mathbf{\\beta} = (\\beta_1, \\cdots, \\beta_p)^{T}$ is a parameter vector and $\\mathbf{\\epsilon} = (\\epsilon_1, \\cdots, \\epsilon_n)^{T}$ is a random error vector.  \n",
        "* **Least Square Estimator, LSE**  \n",
        ">+ $\\hat{\\mathbf{\\beta}}^{LSE} = argmin_{\\mathbf{\\beta}}L(\\mathbf{\\beta}) = argmin_{\\mathbf{\\beta}}\\rVert\\mathbf{y} - \\mathbf{X\\beta}\\rVert^2 / 2$  \n",
        "> + For each $j \\le p$,  \n",
        "$L(\\mathbf{\\beta}) = (\\mathbf{X}^{T}_j\\mathbf{X}_j)\\beta^2_j/2 - \\mathbf{X}^{T}_j(\\mathbf{y}-\\mathbf{Z}_i\\mathbf{\\alpha}_j)\\beta_j + (\\mathbf{y}-\\mathbf{Z}_j\\mathbf{\\alpha}_j)^{T}(\\mathbf{y}-\\mathbf{Z}_j\\mathbf{\\alpha}_j)/2$  \n",
        "where $\\mathbf{Z}_j = (\\mathbf{X}_j, \\cdots, \\mathbf{X}_{j-1}, \\mathbf{X}_{j+1}, \\cdots, \\mathbf{X}_p)$ and $\\mathbf{\\alpha}_j = (\\beta_1, \\cdots, \\beta_{j-1}, \\beta_{j+1}, \\cdots, \\beta_p)^{T}$  \n",
        "> + Hence, $\\hat{\\beta}^{LSE}_j = \\mathbf{X}^{T}_j(\\mathbf{y}-\\mathbf{Z}_j\\mathbf{\\alpha}_j)/\\mathbf{X}^{T}_j\\mathbf{X}_j$"
      ]
    },
    {
      "cell_type": "code",
      "metadata": {
        "id": "5VvS-_a2Z8hs",
        "colab_type": "code",
        "colab": {}
      },
      "source": [
        "import numpy as np\n",
        "import matplotlib.pyplot as plt\n",
        "%matplotlib inline"
      ],
      "execution_count": 1,
      "outputs": []
    },
    {
      "cell_type": "code",
      "metadata": {
        "id": "Jq0ETSxtZ8hx",
        "colab_type": "code",
        "colab": {}
      },
      "source": [
        "def lseCD(y, X, eps=1e-7, iter_max=1000):\n",
        "    loss = []\n",
        "    p = X.shape[1]\n",
        "    bvec = np.zeros(p)\n",
        "    idx = np.arange(0, p)\n",
        "    for i in range(iter_max):\n",
        "        cur_bvec = bvec.copy()\n",
        "        for j in range(p):\n",
        "            Z = X[:, idx != j]\n",
        "            avec = bvec[idx != j]\n",
        "            dn = np.sum(X[:, j]**2)\n",
        "            up = np.sum(X[:, j] * (y - np.matmul(Z, avec)))\n",
        "            bvec[j] = up / dn\n",
        "        loss.append(np.sum((y - np.matmul(X, bvec))**2))\n",
        "        if np.sum(np.abs(cur_bvec - bvec)) < eps: break\n",
        "    return bvec, loss, i"
      ],
      "execution_count": 2,
      "outputs": []
    },
    {
      "cell_type": "code",
      "metadata": {
        "id": "YOnh7qj7Z8h0",
        "colab_type": "code",
        "colab": {
          "base_uri": "https://localhost:8080/",
          "height": 36
        },
        "outputId": "9e5ba420-632f-4545-a1a1-59922e83cc61"
      },
      "source": [
        "n = 10\n",
        "p = 5\n",
        "bvec = np.ones(p)\n",
        "X = np.random.normal(0, 1, [n, p])\n",
        "y = np.matmul(X, bvec) + np.random.normal(0, 1, n)\n",
        "beta, loss, iteration = lseCD(y, X)\n",
        "beta"
      ],
      "execution_count": 3,
      "outputs": [
        {
          "output_type": "execute_result",
          "data": {
            "text/plain": [
              "array([0.78676532, 1.29443776, 0.72858145, 1.64515219, 1.32646209])"
            ]
          },
          "metadata": {
            "tags": []
          },
          "execution_count": 3
        }
      ]
    },
    {
      "cell_type": "code",
      "metadata": {
        "id": "eS30D5puZ8h3",
        "colab_type": "code",
        "colab": {
          "base_uri": "https://localhost:8080/",
          "height": 281
        },
        "outputId": "1e62020c-a5a3-4072-ecd8-3db8459ae067"
      },
      "source": [
        "plt.scatter(range(iteration + 1), loss)\n",
        "plt.title('loss graph')\n",
        "plt.show()"
      ],
      "execution_count": 4,
      "outputs": [
        {
          "output_type": "display_data",
          "data": {
            "image/png": "[encoded data removed]",
            "text/plain": [
              "<Figure size 432x288 with 1 Axes>"
            ]
          },
          "metadata": {
            "tags": [],
            "needs_background": "light"
          }
        }
      ]
    },
    {
      "cell_type": "markdown",
      "metadata": {
        "id": "UzbI2f6AZ8h7",
        "colab_type": "text"
      },
      "source": [
        "## **[Example - LASSO]**  \n",
        "* **Least Absolute Selection and Shrinkage Opterator, LASSO**  \n",
        "> + $\\hat{\\mathbf{\\beta}}^{LASSO} = argmin_{\\mathbf{\\beta}}L_{\\lambda}(\\mathbf{\\beta}) = argmin_{\\mathbf{\\beta}}\\{\\rVert\\mathbf{y} - \\mathbf{X\\beta}\\rVert^2/2 + \\lambda \\rVert\\mathbf{\\beta}\\rVert_1\\}$  \n",
        ",for some constant $\\lambda > 0$, where $\\lambda$ is often called the tuning parameter.  \n",
        "> + For each $j \\le p$,  \n",
        "$L_{\\lambda}(\\mathbf{\\beta}) = (\\mathbf{X}^{T}_j\\mathbf{X}_j)\\beta^2_j/2 - \\mathbf{X}^T(\\mathbf{y} - \\mathbf{Z}_j\\mathbf{\\alpha}_j)\\beta_j + \\lambda|\\beta_j| + (\\mathbf{y} - \\mathbf{Z}_j\\mathbf{\\alpha}_j)^T(\\mathbf{y} - \\mathbf{Z}_j\\mathbf{\\alpha}_j)/2 + \\lambda\\rVert\\mathbf{\\alpha}_j\\rVert_1$  \n",
        "> + Hence, $\\hat{\\beta}^{LASSO}_j = S_{\\lambda/\\mathbf{X}^T_j\\mathbf{X}_j}(\\mathbf{X}^T_j(\\mathbf{y} - \\mathbf{Z}_j\\mathbf{\\alpha}_j) / \\mathbf{X}^T_j\\mathbf{X}_j) = S_{\\lambda/\\mathbf{X}^T_j\\mathbf{X}_j}(\\hat{\\beta}^{LSE}_j)$  \n",
        "where $S_{\\lambda} = sign(x)(|x| - \\lambda)_{+}$ and $c_{+} = cI(c>0)$"
      ]
    },
    {
      "cell_type": "code",
      "metadata": {
        "id": "3hmq9DUHZ8h7",
        "colab_type": "code",
        "colab": {}
      },
      "source": [
        "def softThresh(x, lam):\n",
        "    ret = np.sign(x) * (np.abs(x) - lam) * (abs(x) > lam)\n",
        "    return ret"
      ],
      "execution_count": 5,
      "outputs": []
    },
    {
      "cell_type": "code",
      "metadata": {
        "id": "2IISw-_dZ8h-",
        "colab_type": "code",
        "colab": {}
      },
      "source": [
        "def lassoCD(y, X, lam, eps=1e-7, iter_max=1000):\n",
        "    loss = []\n",
        "    p = X.shape[1]\n",
        "    bvec = np.zeros(p)\n",
        "    idx = np.arange(0, p)\n",
        "    for i in range(iter_max):\n",
        "        cur_bvec = bvec.copy()\n",
        "        for j in range(p):\n",
        "            Z = X[:, idx != j]\n",
        "            avec = bvec[idx != j]\n",
        "            dn = np.sum(X[:, j]**2)\n",
        "            up = np.sum(X[:, j] * (y - np.matmul(Z, avec)))\n",
        "            bvec[j] = softThresh(up/dn, lam/dn)\n",
        "        loss.append(np.sum((y - np.matmul(X, bvec))**2))\n",
        "    return bvec, loss, i"
      ],
      "execution_count": 6,
      "outputs": []
    },
    {
      "cell_type": "code",
      "metadata": {
        "id": "T090bgt2Z8iC",
        "colab_type": "code",
        "colab": {
          "base_uri": "https://localhost:8080/",
          "height": 73
        },
        "outputId": "071fb5f4-3c59-43dc-d0a7-e2a7a2e3cb53"
      },
      "source": [
        "n = 10\n",
        "p = 11\n",
        "bvec = np.ones(p)\n",
        "X = np.random.normal(0, 1, [n, p])\n",
        "y = np.matmul(X, bvec) + np.random.normal(0, 1, n)\n",
        "beta, loss, iteration = lassoCD(y, X, 1) \n",
        "beta"
      ],
      "execution_count": 7,
      "outputs": [
        {
          "output_type": "execute_result",
          "data": {
            "text/plain": [
              "array([-0.00000000e+00,  1.52933343e+00,  6.27267306e-04,  4.45234149e-01,\n",
              "        1.10666632e+00,  1.16782619e+00,  1.48874306e+00,  7.78602899e-01,\n",
              "       -0.00000000e+00,  0.00000000e+00,  9.77917939e-01])"
            ]
          },
          "metadata": {
            "tags": []
          },
          "execution_count": 7
        }
      ]
    },
    {
      "cell_type": "code",
      "metadata": {
        "id": "iW3BGahoZ8iF",
        "colab_type": "code",
        "colab": {
          "base_uri": "https://localhost:8080/",
          "height": 281
        },
        "outputId": "6ac46679-d8cf-4713-873d-e8b64e83a3a1"
      },
      "source": [
        "plt.scatter(range(iteration + 1), loss)\n",
        "plt.title('loss graph')\n",
        "plt.show()"
      ],
      "execution_count": 8,
      "outputs": [
        {
          "output_type": "display_data",
          "data": {
            "image/png": "[encoded data removed]",
            "text/plain": [
              "<Figure size 432x288 with 1 Axes>"
            ]
          },
          "metadata": {
            "tags": [],
            "needs_background": "light"
          }
        }
      ]
    },
    {
      "cell_type": "markdown",
      "metadata": {
        "id": "W64qoy_sZ8iI",
        "colab_type": "text"
      },
      "source": [
        "---\n",
        "# **2. Gradient Descent Algorithm**"
      ]
    },
    {
      "cell_type": "markdown",
      "metadata": {
        "id": "b6-54uuKZ8iI",
        "colab_type": "text"
      },
      "source": [
        "***Moving a point for a direction with a stepsize***  \n",
        "* **Univariate function**  \n",
        ">+ The first key idea is to understand \"moving a point $x_n$ to $x_{n+1}$\" as \"choosing an equation\" between (1) and (2)  \n",
        "(1) : $x_{n+1} = x_n + \\alpha \\Rightarrow$ move to the right  \n",
        "(2) : $x_{n+1} = x_n - \\alpha \\Rightarrow$ move to the left  \n",
        "where $\\alpha >0$ is very small positive constant  \n",
        ">+ Hence, when $f$ is differentiable, $x_{n+1} = x_n - \\alpha \\nabla f(x_n)$  \n",
        ">+ Move $x_n$ for a direction $-\\nabla f(x_n)$ with a stepsize $\\alpha > 0$  \n",
        "\n"
      ]
    },
    {
      "cell_type": "markdown",
      "metadata": {
        "id": "UQ_yjRqAZ8iJ",
        "colab_type": "text"
      },
      "source": [
        "* **Multivariate function**  \n",
        ">+ when the function $f$ is multivariate, there are infinitely many directions to move.  \n",
        ">+ **(Direction opposite to current gradient)**  \n",
        ": Assume that $\\nabla f(\\mathbf{x}) \\ne \\mathbf{0}$ for some fixed point $\\mathbf{x}$  \n",
        ": Let $\\mathbf{x}_{\\alpha} = \\mathbf{x} - \\alpha \\nabla f(\\mathbf{x})$ then by the first order Taylor's expansion around $\\mathbf{x}$, we have  \n",
        "$f(\\mathbf{x}_{\\alpha}) = f(\\mathbf{x}) + \\nabla f(\\mathbf{x})^T(\\mathbf{x}_{\\alpha}-\\mathbf{x}) + o(\\rVert \\mathbf{x}_{\\alpha}-\\mathbf{x} \\rVert)$  \n",
        "$= f(\\mathbf{x}) - \\alpha \\rVert \\nabla f(\\mathbf{x}) \\rVert^2 + o(\\alpha \\rVert \\nabla f(\\mathbf{x}) \\rVert^2)$  \n",
        "$= f(\\mathbf{x}) - \\alpha \\rVert \\nabla f(\\mathbf{x}) \\rVert^2 + o(\\alpha)$  \n",
        "$\\Rightarrow f(\\mathbf{x}_{\\alpha}) - f(\\mathbf{x}) < -\\alpha \\rVert\\nabla f(\\mathbf{x}) \\rVert^2 < 0$  \n",
        ">+ **(General descent condition)**  \n",
        ": Consider $\\mathbf{x}_{\\alpha}  = \\mathbf{x} + \\alpha \\mathbf{d}$ ,$\\forall \\alpha >0$ where the direction $\\mathbf{d}$ satisfies the descent condition where it makes an angle with $\\nabla f(\\mathbf{x})$ that is greater than 90 degrees,  \n",
        "that is, $\\nabla f(\\mathbf{x})^T\\mathbf{d} < 0$  \n",
        ": By the Taylor's expansion, $f(\\mathbf{x}_{\\alpha}) - f(\\mathbf{x}) < \\alpha \\nabla f(\\mathbf{x})^T\\mathbf{d} < 0$  \n",
        "for all sufficiently small $\\alpha > 0$"
      ]
    },
    {
      "cell_type": "markdown",
      "metadata": {
        "id": "wrxE1XJSZ8iK",
        "colab_type": "text"
      },
      "source": [
        "## **Algorithm**  \n",
        ">1. Take an initial $\\mathbf{x}_1$  \n",
        ">2. For $n = 1, 2, \\cdots, $  \n",
        "    (1) Choose a direction $\\mathbf{d}_n$ and a stepsize $\\alpha_n$ and set $\\mathbf{x}_{n+1} = \\mathbf{x}_n + \\alpha_n\\mathbf{d}_n$  \n",
        ">3. If $\\rVert \\mathbf{x}_{n+1} - \\mathbf{x}_n \\rVert < \\epsilon$ then stop.  \n",
        ">4. Set $\\hat{\\mathbf{x}} = \\mathbf{x}_n$   \n",
        "\n",
        "* **the key step is (1)**  \n",
        ": If $\\nabla f(\\mathbf{x}_n)^T\\mathbf{d}_n > 0$ then cannot guarantee the descent property.  \n",
        ": If $\\alpha_n$ is too small the convergence speed is too late.  \n"
      ]
    },
    {
      "cell_type": "markdown",
      "metadata": {
        "id": "jjBbn0vLZ8iK",
        "colab_type": "text"
      },
      "source": [
        "## **Selecting the descent direction**  \n",
        ">* **General form of GD algorithm**  \n",
        ": The most popular form of the GD algorithm is specified by $\\mathbf{x}_{n+1} = \\mathbf{x}_n - \\alpha_n\\mathbf{D}_n\\nabla f(\\mathbf{x}_n)$  \n",
        ",where $\\mathbf{D}_n$ is a strictly positive definite symmetric matrix and $\\alpha_n$ is a stepsize.  \n",
        ": $\\mathbf{d}_n = -\\mathbf{D}_n \\nabla f(\\mathbf{x})$  \n",
        "$~\\nabla f(\\mathbf{x}_n)^T\\mathbf{D}_n\\nabla f(\\mathbf{x}_n) > 0$ because of the strictly positive definiteness of $\\mathbf{D}_n$  \n",
        "\n",
        ">* **Steepest descent method**  \n",
        ": $\\mathbf{D}_n = \\mathbf{I}_p \\Rightarrow \\mathbf{x}_{n+1} = \\mathbf{x}_n - \\alpha \\nabla f(\\mathbf{x}_n)$  \n",
        "$~\\nabla f(\\mathbf{x}_n)^T\\mathbf{d}_n \\ge - \\rVert \\nabla f(\\mathbf{x}_n) \\rVert \\rVert \\mathbf{d}_n \\rVert = -\\rVert \\nabla f(\\mathbf{x}) \\rVert < 0$ ,$\\forall \\rVert\\mathbf{d}_n \\rVert = 1$ by the Schwartz inequality  \n",
        ": Hence, $\\mathbf{d}_n = -\\nabla f(\\mathbf{x}_n) / \\rVert\\nabla f(\\mathbf{x}_n) \\rVert$ where the equality holds for the Schwartz inequality  \n",
        ": the gradient direction is almost orthogonal to the direction for the minimum. Hence, the GD algorithm shows 'zig-zagging' behavior without making fast progress.  \n",
        "\n",
        ">* **Newton's method**  \n",
        ": Assume that $f$ is convex and twice differentiable  \n",
        ": $\\mathbf{D}_n = \\nabla^2f(\\mathbf{x}_n)^{-1} \\Rightarrow \\mathbf{x}_{n+1} = \\mathbf{x}_n -\\alpha_n \\nabla^2f(\\mathbf{x}_n)^{-1}\\nabla f(\\mathbf{x})$ ,where $\\nabla^2f(\\mathbf{x}_n)$ is strictly positive definite  \n",
        ": typically converges vary fast and does not exhibit 'zig-zagging' behavior  "
      ]
    },
    {
      "cell_type": "markdown",
      "metadata": {
        "id": "KLvNwaLpZ8iL",
        "colab_type": "text"
      },
      "source": [
        "## **Newton-Raphson**  \n",
        "* Newton-Raphson algorithm is a gradient descent algorithm when $\\alpha_n = 1$ ,$\\mathbf{D}_n = \\nabla^2f(\\mathbf{x}_n)^{-1} \\Rightarrow \\mathbf{x}_{n+1} = \\mathbf{x}_n - \\nabla^2f(\\mathbf{x}_n)^{-1}\\nabla f(\\mathbf{x})$  \n",
        "* Suppose $f : \\mathit{D} \\rightarrow \\mathbb{R}^p$ is convex and twice differentiable, has second derivaton on $\\mathit{D}$  \n",
        "    + The second order approximation of $f$ at $\\mathbf{x}_0$ becomes  \n",
        "    $f(\\mathbf{x}) \\approx q(\\mathbf{x}) = f(\\mathbf{x}_0) + \\nabla f(\\mathbf{x}_0)^T(\\mathbf{x} - \\mathbf{x}_0) +(\\mathbf{x} - \\mathbf{x}_0)^T\\nabla^2f(\\mathbf{x}_0)(\\mathbf{x} - \\mathbf{x}_0)/2$ around $\\mathbf{x}_n$  \n",
        "    ,where $\\nabla f(\\mathbf{x}_0)$ is the gradient vector of $f$ at $\\mathbf{x}_0$ and  $\\nabla^2f(\\mathbf{x}_0)$ is the Hessian matrix of $f$ at $\\mathbf{x}_0$  \n",
        "    + Minimizing the quadratic approximation $q$ around $\\mathbf{x}_n$  \n",
        "    + By taking the derivative to zero,  \n",
        "    $\\nabla f(\\mathbf{x}_n) = \\nabla^2f(\\mathbf{x}_n)(\\mathbf{x} - \\mathbf{x}_n) = 0  \\Leftrightarrow \\mathbf{x} = \\mathbf{x}_n - \\nabla f(\\mathbf{x}_n)^{-1} \\nabla f(\\mathbf{x}_n)$  \n",
        "* Hence, the Newton-Raphson Algorithm can be thought of a successive minimization of quadratic approximations \n",
        "$\\mathbf{x}_{n+1} = \\mathbf{x}_n - \\alpha \\nabla^2f(\\mathbf{x}_n)^{-1}\\nabla f(\\mathbf{x})$"
      ]
    },
    {
      "cell_type": "markdown",
      "metadata": {
        "id": "QPC_UG1XZ8iL",
        "colab_type": "text"
      },
      "source": [
        "## **[Example - LogisticRegression]**  \n",
        "* The estimator(mle) is the minimizer of the logistic loss:  \n",
        "$\\hat{\\mathbf{\\beta}} = argmin_{\\mathbf{\\beta}}L(\\mathbf{\\beta})= argmin_{\\mathbf{\\beta}}\\sum^{n}_{i=1}\\{-y_i \\mathbf{x}^T_i \\mathbf{\\beta} +log(1+exp(\\mathbf{x}^T_i\\mathbf{\\beta}))\\}$  \n",
        "which can be obtained by modeling $f(\\mathbf{x}^T_i\\mathbf{\\beta}) = exp(\\mathbf{x}^T_i\\mathbf{\\beta}) / \\{ 1+exp(\\mathbf{x}^T_i\\mathbf{\\beta})\\}$  \n",
        "* $\\nabla L(\\mathbf{\\beta}) = \\sum^{n}_{i=1}[-y_i + exp(\\mathbf{x}^T_i\\mathbf{\\beta}) / \\{1+exp(\\mathbf{x}^T_i\\mathbf{\\beta})\\}]\\mathbf{x}_i$"
      ]
    },
    {
      "cell_type": "code",
      "metadata": {
        "id": "mjxgysxuZ8iM",
        "colab_type": "code",
        "colab": {}
      },
      "source": [
        "def getLoss(y, X, bvec):\n",
        "    xbvec = np.matmul(X, bvec)\n",
        "    loss = -np.sum(y * xbvec) + np.sum(np.log(1 + np.exp(xbvec)))\n",
        "    return loss\n",
        "\n",
        "def getGrad(y, X, bvec):\n",
        "    xbvec = np.minimum(np.matmul(X, bvec), 700)\n",
        "    exbvec = np.exp(xbvec)\n",
        "    pvec = exbvec / (1 + exbvec)\n",
        "    grad = np.matmul(np.transpose(X), (pvec - y))\n",
        "    return grad\n",
        "\n",
        "def logisticGD(y, X, bvec, eps=1e-7, iter_max=1000):\n",
        "    losses = []\n",
        "    for i in range(iter_max):\n",
        "        alpha = .5\n",
        "        gvec = getGrad(y, X, bvec)\n",
        "        loss = getLoss(y, X, bvec)\n",
        "        losses.append(loss)\n",
        "        # stepsize from the backtracking rule\n",
        "        for j in range(iter_max):\n",
        "            nbvec = bvec - alpha * gvec # new bvec\n",
        "            if getLoss(y, X, nbvec) < loss: break\n",
        "            alpha = alpha / 2\n",
        "        if np.sum(np.abs(nbvec - bvec)) < eps: break\n",
        "        bvec = nbvec.copy()\n",
        "    return bvec, losses, i"
      ],
      "execution_count": 9,
      "outputs": []
    },
    {
      "cell_type": "code",
      "metadata": {
        "id": "PLcd0AFMZ8iP",
        "colab_type": "code",
        "colab": {
          "base_uri": "https://localhost:8080/",
          "height": 92
        },
        "outputId": "84ffea8c-dba0-4975-9628-92c2e7d06327"
      },
      "source": [
        "n = 100\n",
        "p = 20\n",
        "X = np.random.normal(0, 1, [n, p])\n",
        "y = np.random.choice([0, 1], n, replace=True)\n",
        "bvec = np.zeros(p)\n",
        "betaGD, loss, iteration = logisticGD(y, X, bvec)\n",
        "betaGD"
      ],
      "execution_count": 10,
      "outputs": [
        {
          "output_type": "execute_result",
          "data": {
            "text/plain": [
              "array([-0.16383516, -0.30204379, -0.06389954,  0.22378696,  0.3484279 ,\n",
              "       -0.07812375, -0.29273194,  0.00678847,  0.0892753 ,  0.07124329,\n",
              "       -0.14949607,  0.13897351,  0.21518069, -0.05456187,  0.03920021,\n",
              "        0.20808057, -0.37380438, -0.00271156,  0.13279272,  0.35532664])"
            ]
          },
          "metadata": {
            "tags": []
          },
          "execution_count": 10
        }
      ]
    },
    {
      "cell_type": "code",
      "metadata": {
        "id": "2xHzPnZ5Z8iS",
        "colab_type": "code",
        "colab": {
          "base_uri": "https://localhost:8080/",
          "height": 281
        },
        "outputId": "7f5e153d-b6a3-403a-9e06-cb8b3651eb57"
      },
      "source": [
        "plt.scatter(range(iteration + 1), loss)\n",
        "plt.title('loss graph GD')\n",
        "plt.show()"
      ],
      "execution_count": 11,
      "outputs": [
        {
          "output_type": "display_data",
          "data": {
            "image/png": "[encoded data removed]",
            "text/plain": [
              "<Figure size 432x288 with 1 Axes>"
            ]
          },
          "metadata": {
            "tags": [],
            "needs_background": "light"
          }
        }
      ]
    },
    {
      "cell_type": "code",
      "metadata": {
        "id": "yxH579NRZ8iU",
        "colab_type": "code",
        "colab": {}
      },
      "source": [
        "def getHess(y, X, bvec):\n",
        "    xbvec = np.minimum(np.matmul(X, bvec), 700)\n",
        "    exbvec = np.exp(xbvec)\n",
        "    pvec = exbvec / (1 + exbvec)\n",
        "    wvec = pvec * (1 - pvec)\n",
        "    hess = np.matmul(np.matmul(np.transpose(X), np.diag(wvec)), X)\n",
        "    return hess"
      ],
      "execution_count": 12,
      "outputs": []
    },
    {
      "cell_type": "code",
      "metadata": {
        "id": "2McCgbZkZ8iX",
        "colab_type": "code",
        "colab": {}
      },
      "source": [
        "def logisticNR(y, X, bvec, eps=1e-7, iter_max=1000):\n",
        "    loss = []\n",
        "    for i in range(iter_max):\n",
        "        loss.append(getLoss(y, X, bvec))\n",
        "        hess = getHess(y, X, bvec)\n",
        "        grad = getGrad(y, X, bvec)\n",
        "        nbvec = bvec - np.matmul(np.linalg.inv(hess), grad) # new bvec\n",
        "        if np.sum(np.abs(nbvec - bvec)) < eps: break\n",
        "        bvec = nbvec\n",
        "    return bvec, loss, i"
      ],
      "execution_count": 13,
      "outputs": []
    },
    {
      "cell_type": "code",
      "metadata": {
        "id": "vu7hHAbbZ8ia",
        "colab_type": "code",
        "colab": {
          "base_uri": "https://localhost:8080/",
          "height": 92
        },
        "outputId": "1f4eafaa-cea3-491f-eb07-bfb9c36b1b75"
      },
      "source": [
        "betaNR, loss, iteration = logisticNR(y, X, bvec)\n",
        "betaNR"
      ],
      "execution_count": 14,
      "outputs": [
        {
          "output_type": "execute_result",
          "data": {
            "text/plain": [
              "array([-0.16383516, -0.30204379, -0.06389955,  0.22378696,  0.34842791,\n",
              "       -0.07812373, -0.29273194,  0.00678845,  0.08927529,  0.07124329,\n",
              "       -0.14949607,  0.13897351,  0.21518071, -0.05456188,  0.03920022,\n",
              "        0.20808058, -0.37380438, -0.00271156,  0.13279271,  0.35532664])"
            ]
          },
          "metadata": {
            "tags": []
          },
          "execution_count": 14
        }
      ]
    },
    {
      "cell_type": "code",
      "metadata": {
        "id": "o7oKYvbeZ8id",
        "colab_type": "code",
        "colab": {
          "base_uri": "https://localhost:8080/",
          "height": 281
        },
        "outputId": "0d39435c-6e88-4d56-ff1b-f533605a6f65"
      },
      "source": [
        "plt.scatter(range(iteration + 1), loss)\n",
        "plt.title('loss graph NR')\n",
        "plt.show()"
      ],
      "execution_count": 15,
      "outputs": [
        {
          "output_type": "display_data",
          "data": {
            "image/png": "[encoded data removed]",
            "text/plain": [
              "<Figure size 432x288 with 1 Axes>"
            ]
          },
          "metadata": {
            "tags": [],
            "needs_background": "light"
          }
        }
      ]
    },
    {
      "cell_type": "code",
      "metadata": {
        "id": "jbSq2NCWZ8ih",
        "colab_type": "code",
        "colab": {}
      },
      "source": [
        "from sklearn.linear_model import LogisticRegression\n",
        "import pandas as pd"
      ],
      "execution_count": 16,
      "outputs": []
    },
    {
      "cell_type": "code",
      "metadata": {
        "id": "6UmdlU62Z8ik",
        "colab_type": "code",
        "colab": {
          "base_uri": "https://localhost:8080/",
          "height": 92
        },
        "outputId": "d4760334-70fd-47fd-e11a-c520a120997a"
      },
      "source": [
        "clf = LogisticRegression(penalty='none', solver='newton-cg')\n",
        "clf.fit(X, y)\n",
        "betaLR = clf.coef_.squeeze()\n",
        "betaLR"
      ],
      "execution_count": 17,
      "outputs": [
        {
          "output_type": "execute_result",
          "data": {
            "text/plain": [
              "array([-0.13868964, -0.33507639, -0.00840247,  0.21195501,  0.31014118,\n",
              "       -0.11585419, -0.29417281,  0.00961135,  0.08300741,  0.10201981,\n",
              "       -0.12581409,  0.14605101,  0.19125698, -0.08368352,  0.02633424,\n",
              "        0.22266388, -0.3822354 , -0.05582314,  0.17165245,  0.34971485])"
            ]
          },
          "metadata": {
            "tags": []
          },
          "execution_count": 17
        }
      ]
    },
    {
      "cell_type": "code",
      "metadata": {
        "id": "SteSrLXEZ8im",
        "colab_type": "code",
        "colab": {
          "base_uri": "https://localhost:8080/",
          "height": 662
        },
        "outputId": "74a9c616-7111-41a3-87e8-130ce0b77a16"
      },
      "source": [
        "pd.DataFrame([betaGD, betaNR, betaLR], index=['GD', 'NR', 'newton-cg']).transpose()"
      ],
      "execution_count": 18,
      "outputs": [
        {
          "output_type": "execute_result",
          "data": {
            "text/html": [
              "<div>\n",
              "<style scoped>\n",
              "    .dataframe tbody tr th:only-of-type {\n",
              "        vertical-align: middle;\n",
              "    }\n",
              "\n",
              "    .dataframe tbody tr th {\n",
              "        vertical-align: top;\n",
              "    }\n",
              "\n",
              "    .dataframe thead th {\n",
              "        text-align: right;\n",
              "    }\n",
              "</style>\n",
              "<table border=\"1\" class=\"dataframe\">\n",
              "  <thead>\n",
              "    <tr style=\"text-align: right;\">\n",
              "      <th></th>\n",
              "      <th>GD</th>\n",
              "      <th>NR</th>\n",
              "      <th>newton-cg</th>\n",
              "    </tr>\n",
              "  </thead>\n",
              "  <tbody>\n",
              "    <tr>\n",
              "      <th>0</th>\n",
              "      <td>-0.163835</td>\n",
              "      <td>-0.163835</td>\n",
              "      <td>-0.138690</td>\n",
              "    </tr>\n",
              "    <tr>\n",
              "      <th>1</th>\n",
              "      <td>-0.302044</td>\n",
              "      <td>-0.302044</td>\n",
              "      <td>-0.335076</td>\n",
              "    </tr>\n",
              "    <tr>\n",
              "      <th>2</th>\n",
              "      <td>-0.063900</td>\n",
              "      <td>-0.063900</td>\n",
              "      <td>-0.008402</td>\n",
              "    </tr>\n",
              "    <tr>\n",
              "      <th>3</th>\n",
              "      <td>0.223787</td>\n",
              "      <td>0.223787</td>\n",
              "      <td>0.211955</td>\n",
              "    </tr>\n",
              "    <tr>\n",
              "      <th>4</th>\n",
              "      <td>0.348428</td>\n",
              "      <td>0.348428</td>\n",
              "      <td>0.310141</td>\n",
              "    </tr>\n",
              "    <tr>\n",
              "      <th>5</th>\n",
              "      <td>-0.078124</td>\n",
              "      <td>-0.078124</td>\n",
              "      <td>-0.115854</td>\n",
              "    </tr>\n",
              "    <tr>\n",
              "      <th>6</th>\n",
              "      <td>-0.292732</td>\n",
              "      <td>-0.292732</td>\n",
              "      <td>-0.294173</td>\n",
              "    </tr>\n",
              "    <tr>\n",
              "      <th>7</th>\n",
              "      <td>0.006788</td>\n",
              "      <td>0.006788</td>\n",
              "      <td>0.009611</td>\n",
              "    </tr>\n",
              "    <tr>\n",
              "      <th>8</th>\n",
              "      <td>0.089275</td>\n",
              "      <td>0.089275</td>\n",
              "      <td>0.083007</td>\n",
              "    </tr>\n",
              "    <tr>\n",
              "      <th>9</th>\n",
              "      <td>0.071243</td>\n",
              "      <td>0.071243</td>\n",
              "      <td>0.102020</td>\n",
              "    </tr>\n",
              "    <tr>\n",
              "      <th>10</th>\n",
              "      <td>-0.149496</td>\n",
              "      <td>-0.149496</td>\n",
              "      <td>-0.125814</td>\n",
              "    </tr>\n",
              "    <tr>\n",
              "      <th>11</th>\n",
              "      <td>0.138974</td>\n",
              "      <td>0.138974</td>\n",
              "      <td>0.146051</td>\n",
              "    </tr>\n",
              "    <tr>\n",
              "      <th>12</th>\n",
              "      <td>0.215181</td>\n",
              "      <td>0.215181</td>\n",
              "      <td>0.191257</td>\n",
              "    </tr>\n",
              "    <tr>\n",
              "      <th>13</th>\n",
              "      <td>-0.054562</td>\n",
              "      <td>-0.054562</td>\n",
              "      <td>-0.083684</td>\n",
              "    </tr>\n",
              "    <tr>\n",
              "      <th>14</th>\n",
              "      <td>0.039200</td>\n",
              "      <td>0.039200</td>\n",
              "      <td>0.026334</td>\n",
              "    </tr>\n",
              "    <tr>\n",
              "      <th>15</th>\n",
              "      <td>0.208081</td>\n",
              "      <td>0.208081</td>\n",
              "      <td>0.222664</td>\n",
              "    </tr>\n",
              "    <tr>\n",
              "      <th>16</th>\n",
              "      <td>-0.373804</td>\n",
              "      <td>-0.373804</td>\n",
              "      <td>-0.382235</td>\n",
              "    </tr>\n",
              "    <tr>\n",
              "      <th>17</th>\n",
              "      <td>-0.002712</td>\n",
              "      <td>-0.002712</td>\n",
              "      <td>-0.055823</td>\n",
              "    </tr>\n",
              "    <tr>\n",
              "      <th>18</th>\n",
              "      <td>0.132793</td>\n",
              "      <td>0.132793</td>\n",
              "      <td>0.171652</td>\n",
              "    </tr>\n",
              "    <tr>\n",
              "      <th>19</th>\n",
              "      <td>0.355327</td>\n",
              "      <td>0.355327</td>\n",
              "      <td>0.349715</td>\n",
              "    </tr>\n",
              "  </tbody>\n",
              "</table>\n",
              "</div>"
            ],
            "text/plain": [
              "          GD        NR  newton-cg\n",
              "0  -0.163835 -0.163835  -0.138690\n",
              "1  -0.302044 -0.302044  -0.335076\n",
              "2  -0.063900 -0.063900  -0.008402\n",
              "3   0.223787  0.223787   0.211955\n",
              "4   0.348428  0.348428   0.310141\n",
              "5  -0.078124 -0.078124  -0.115854\n",
              "6  -0.292732 -0.292732  -0.294173\n",
              "7   0.006788  0.006788   0.009611\n",
              "8   0.089275  0.089275   0.083007\n",
              "9   0.071243  0.071243   0.102020\n",
              "10 -0.149496 -0.149496  -0.125814\n",
              "11  0.138974  0.138974   0.146051\n",
              "12  0.215181  0.215181   0.191257\n",
              "13 -0.054562 -0.054562  -0.083684\n",
              "14  0.039200  0.039200   0.026334\n",
              "15  0.208081  0.208081   0.222664\n",
              "16 -0.373804 -0.373804  -0.382235\n",
              "17 -0.002712 -0.002712  -0.055823\n",
              "18  0.132793  0.132793   0.171652\n",
              "19  0.355327  0.355327   0.349715"
            ]
          },
          "metadata": {
            "tags": []
          },
          "execution_count": 18
        }
      ]
    },
    {
      "cell_type": "markdown",
      "metadata": {
        "id": "kDckrc4QZ8ip",
        "colab_type": "text"
      },
      "source": [
        "---\n",
        "# **3. Modified local quadratic approximation algorithm**"
      ]
    },
    {
      "cell_type": "markdown",
      "metadata": {
        "id": "TvS4kpDbZ8iq",
        "colab_type": "text"
      },
      "source": [
        "Let $f : \\mathbb{R}^p \\rightarrow \\mathbb{R}$ be a convex function  \n",
        "* **local linear approximation function $l$ of $f$ at $\\mathbf{x} = \\mathbf{x}^c$**  \n",
        "$f_{l}(\\mathbf{x}|\\mathbf{x}^c) = f(\\mathbf{x}^c) + \\nabla f(\\mathbf{x}^c)^T(\\mathbf{x}-\\mathbf{x}^c)$  \n",
        "    + $\\nabla f(\\mathbf{x}^c)$ : gradient vector of $f$ at $\\mathbf{x}^c$  \n",
        "    + gradient dexcent algorithm  $\\mathbf{x}^{\\alpha} = \\mathbf{x}^c - \\alpha \\nabla f(\\mathbf{x}^c)$, with a step size $\\alpha > 0$  \n",
        "* **local quadratic approximation function $q$ of $f$ at $\\mathbf{x} = \\mathbf{x}^c$**  \n",
        "$f_q(\\mathbf{x}|\\mathbf{x}^c) = f(\\mathbf{x}^c) + \\nabla f(\\mathbf{x}^c)^T(\\mathbf{x} - \\mathbf{x}^c) + (\\mathbf{x} - \\mathbf{x}^c)^T\\nabla^2f(\\mathbf{x}^c)(\\mathbf{x} - \\mathbf{x}^c)/2$  \n",
        "    + $\\nabla^2f(\\mathbf{x}^c)$ : Hessian matirx of $f$ at $\\mathbf{x}^c$  \n",
        "    + Newton-Raphson algorithm $\\mathbf{x}^n = \\mathbf{x}^c - \\nabla^2f(\\mathbf{x}^c)^{-1}\\nabla f(\\mathbf{x}^c) = argmin_{\\mathbf{x}}f_{q}(\\mathbf{x}|\\mathbf{x}^c)$  \n",
        "    "
      ]
    },
    {
      "cell_type": "markdown",
      "metadata": {
        "id": "c2djQG3yZ8iq",
        "colab_type": "text"
      },
      "source": [
        "Newton-Raphson Algorithm may fail to descent, that is, $f(\\mathbf{x}^{new}) > f(\\mathbf{x}^{current})$  \n",
        "* general Newton-Raphson Algorithm ; $\\mathbf{x}^{\\alpha} = \\mathbf{x}^c - \\alpha \\nabla^2 f(\\mathbf{x}^c)^{-1} \\nabla f(\\mathbf{x}^c) \\ne \\mathbf{x}^n$  , with a step size $\\alpha > 0$  \n",
        "* If $\\mathbf{x}^c$ is not the minimizer of $f$ then there exists $\\alpha > 0$ such that $f(\\mathbf{x}^{\\alpha}) < f(\\mathbf{x}^c)$  \n",
        "where $\\mathbf{x}^{\\alpha} = \\mathbf{x}^c - \\alpha \\nabla^2 f(\\mathbf{x}^c)^{-1}\\nabla f(\\mathbf{x}^c) = \\mathbf{x}^c - \\alpha(\\mathbf{x}^c - \\mathbf{x}^n)$  \n",
        "$=\\alpha \\mathbf{x}^n + (1-\\alpha)\\mathbf{x}^c$  \n",
        "    + $\\mathbf{x}^c$ is not a minimizer of $f$ so that $\\nabla f_q(\\mathbf{x}^c | \\mathbf{x}^c) = \\nabla f(\\mathbf{x}^c) \\ne \\mathbf{0}$  \n",
        "    + Hence $\\mathbf{x}^c$ is not a minimizer of $q$ which implies $f_q(\\mathbf{x}^n|\\mathbf{x}^c) < f_q(\\mathbf{x}^c | \\mathbf{x}^c)$  \n",
        "    + From the convexity of $f_q$ ,for any $\\alpha \\in (0, 1]$  \n",
        "    $f_q(\\mathbf{x}^{\\alpha}|\\mathbf{x}^c) = f_q(\\alpha \\mathbf{x}^n + (1-\\alpha)\\mathbf{x}^c | \\mathbf{x}^c) \\le \\alpha f_q(\\mathbf{x}^n | \\mathbf{x}^c) + (1-\\alpha)f_q(\\mathbf{x}^c | \\mathbf{x}^c)$  \n",
        "    + Hence $f_q(\\mathbf{x}^{\\alpha} | \\mathbf{x}^c) - f_q(\\mathbf{x}^c | \\mathbf{x}^c) \\le \\alpha(f_q(\\mathbf{x}^n|\\mathbf{x}^c) - f_q(\\mathbf{x}^c | \\mathbf{x}^c))$  \n",
        "    + using the fact that $\\nabla f(\\mathbf{x}^c) = \\nabla f_q(\\mathbf{x}^c | \\mathbf{x}^c)$,  \n",
        "    $\\lim_{\\alpha \\to \\infty}\\frac{f(\\mathbf{x}^{\\alpha}) - f(\\mathbf{x}^c)}{\\alpha} = \\lim_{\\alpha \\to \\infty}\\frac{f(\\mathbf{x}^{\\alpha}|\\mathbf{x}^c) - f(\\mathbf{x}^c|\\mathbf{x}^c)}{\\alpha} \\le f_q(\\mathbf{x}^n | \\mathbf{x}^c) - f_q(\\mathbf{x}^c|\\mathbf{x}^c) < 0$"
      ]
    },
    {
      "cell_type": "markdown",
      "metadata": {
        "id": "uc2BdzYUZ8ir",
        "colab_type": "text"
      },
      "source": [
        "## **Algorithm**  \n",
        ">1. Set an initial $\\mathbf{x}_1$  \n",
        "2. For $n \\ge 1$ ,repeat the followings until convergence.  \n",
        "    (1) Let $\\mathbf{x}_{\\alpha} = \\mathbf{x}_n -\\nabla^2f(\\mathbf{x}_n)^{-1}\\nabla f(\\mathbf{x}_n)$  \n",
        "    (2) If $f(\\mathbf{x}_{\\alpha}) < f(\\mathbf{x}_n)$ then set $\\mathbf{x}_{n+1} = \\mathbf{x}_{\\alpha}$  \n",
        "    (3) Else set $\\mathbf{x}_{n+1} = \\mathbf{x}_{\\alpha}$ ,where $\\alpha = argmin_{h \\in [0, 1]}f(h\\mathbf{x}_{\\alpha} + (1-h)\\mathbf{x}_n)$"
      ]
    }
  ]
}