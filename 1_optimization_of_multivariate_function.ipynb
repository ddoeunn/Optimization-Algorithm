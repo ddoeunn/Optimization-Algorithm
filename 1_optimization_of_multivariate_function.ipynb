{
  "nbformat": 4,
  "nbformat_minor": 0,
  "metadata": {
    "kernelspec": {
      "display_name": "Python 3",
      "language": "python",
      "name": "python3"
    },
    "language_info": {
      "codemirror_mode": {
        "name": "ipython",
        "version": 3
      },
      "file_extension": ".py",
      "mimetype": "text/x-python",
      "name": "python",
      "nbconvert_exporter": "python",
      "pygments_lexer": "ipython3",
      "version": "3.7.6"
    },
    "toc": {
      "base_numbering": 1,
      "nav_menu": {},
      "number_sections": false,
      "sideBar": true,
      "skip_h1_title": false,
      "title_cell": "Table of Contents",
      "title_sidebar": "Contents",
      "toc_cell": false,
      "toc_position": {
        "height": "calc(100% - 180px)",
        "left": "10px",
        "top": "150px",
        "width": "256px"
      },
      "toc_section_display": true,
      "toc_window_display": true
    },
    "varInspector": {
      "cols": {
        "lenName": 16,
        "lenType": 16,
        "lenVar": 40
      },
      "kernels_config": {
        "python": {
          "delete_cmd_postfix": "",
          "delete_cmd_prefix": "del ",
          "library": "var_list.py",
          "varRefreshCmd": "print(var_dic_list())"
        },
        "r": {
          "delete_cmd_postfix": ") ",
          "delete_cmd_prefix": "rm(",
          "library": "var_list.r",
          "varRefreshCmd": "cat(var_dic_list()) "
        }
      },
      "types_to_exclude": [
        "module",
        "function",
        "builtin_function_or_method",
        "instance",
        "_Feature"
      ],
      "window_display": false
    },
    "colab": {
      "name": "1. optimization of multivariate function.ipynb",
      "provenance": [],
      "collapsed_sections": [],
      "toc_visible": true
    }
  },
  "cells": [
    {
      "cell_type": "markdown",
      "metadata": {
        "id": "khKKKTVIZ8hm",
        "colab_type": "text"
      },
      "source": [
        "# ***OPTIMIZATION OF MULTIVARIATE FUNCTIONS*** \n"
      ]
    },
    {
      "cell_type": "markdown",
      "metadata": {
        "id": "kOw7xZ5uZ8ho",
        "colab_type": "text"
      },
      "source": [
        ">* Assume that $f$ is a multivariate real function $f: \\mathbb{R}^p \\rightarrow \\mathbb{R}$  \n",
        "that has only one true or exact minimizer $\\mathbf{x}^* = argmin_{\\mathbf{x} \\in \\mathit{D}}f(\\mathbf{x})$  \n",
        "* Several algorithms for obtaining a sequence $\\{\\mathbf{x}_n\\}_{n \\ge 1}$  \n",
        "that satisfies $\\exists N \\in \\mathbb{N}$ s.t. $\\rVert\\mathbf{x}_n-\\mathbf{x}^*\\rVert < \\epsilon, \\forall n \\ge N$ for a given error bound $\\epsilon > 0$  \n",
        "* For the sequence above, put $\\hat{\\mathbf{x}} = \\mathbf{x}_N$ as an approximated minimizer of $\\mathbf{x}^*$"
      ]
    },
    {
      "cell_type": "markdown",
      "metadata": {
        "id": "BObdlot8Z8hp",
        "colab_type": "text"
      },
      "source": [
        "---\n",
        "# **1. Coordinate Descent Algorithm**"
      ]
    },
    {
      "cell_type": "markdown",
      "metadata": {
        "id": "lOA-HjCoZ8hq",
        "colab_type": "text"
      },
      "source": [
        "## **Algorithm**  \n",
        "* Iteratively solves univariate minimization problems for minimizing a function  \n",
        "* Given an initial value $\\mathbf{x}_1 = (x_{11}, \\cdots, x_{1p})^{T}$  \n",
        "$f(\\mathbf{x_1}) \\ge f(x_{21}, x_{12}, x_{13}, \\cdots, x_{1p}) \\ge f(x_{21}, x_{22}, x_{13}, \\cdots, x_{1p}) \\ge \\cdots \\ge f(x_{21}, x_{22}, x_{23}, \\cdots, x_{2p})$  \n",
        ",where $x_{21} = argmin_{t \\in \\mathbb{R}}f(t, x_{12}, x_{13}, \\cdots, x_{1p}), \\cdots, \n",
        "x_{2p}= argmin_{t \\in \\mathbb{R}}f(x_{21}, x_{22}, x_{23}, \\cdots, t)$   \n",
        "so that we eventually have $f(\\mathbf{x}_1) \\ge f(\\mathbf{x}_2)$ ,where $\\mathbf{x}_2 = (x_{21}, x_{22}, \\cdots, x_{2p} )^{T}$  \n",
        "\n",
        ">1. Take an initial $\\mathbf{x}_1 = (x_{11}, \\cdots, x_{1p})^{T}$  \n",
        "2. For $n = 1, 2, \\cdots, $  \n",
        "    (1) For $j=1, 2, \\cdots, p$  \n",
        "    $x_{(n+1)j} = argmin_{t \\in \\mathbb{R}}f(x_{(n+1)1}, \\cdots, x_{(n+1)(j-1)}, t, x_{n(j+1)}, \\cdots, x_{np})$  \n",
        "3. If $\\rVert\\mathbf{x}_{n+1}-\\mathbf{x}_n\\rVert < \\epsilon$ then stop, where $\\mathbf{x}_{n+1} = (x_{(n+1)1}, x_{(n+1)2}, \\cdots, x_{(n+1)p})^{T}$  \n",
        "4. Set $\\hat{\\mathbf{x}} = \\mathbf{x}_n$  \n",
        "\n"
      ]
    },
    {
      "cell_type": "markdown",
      "metadata": {
        "id": "FlMvcYwSZ8hr",
        "colab_type": "text"
      },
      "source": [
        "* **the key step is the minimization in (1)**  \n",
        "    + If it has closed form we are lucky.  \n",
        "    + If not, we need to solve univariate minimization problem.  \n",
        "    + If $f$ is differentiable then (1) can be done by solving $\\frac{df(x_{(n+1)1}, \\cdots, x_{(n+1)(j-1)}, t, x_{n(j+1)}, \\cdots, x_{np})}{dt} = 0$  \n",
        "    \n",
        "* **If $f$ is convex but not differentiable then the algorithm may stuck in a point that is not a local minimizer**  \n",
        ": $f(x, y) = (x-y)^2 +(x+y)^2 + |x-y| + 10|x+y|$  \n",
        "\n",
        "* **Tseng(2001) proved that the CD algorithm always converges to a local minimizer**  \n",
        "**if $f(\\mathbf{x}) = g(\\mathbf{x}) + \\sum^{p}_{j=1}h_j(x_j)$ where $g$ is convex differenctiable and $h_j$ is convex but may not differentiable for all $j \\le p$**  \n",
        ": $f(x, y) = x^2 + y^2 + |x| + 10|y|$"
      ]
    },
    {
      "cell_type": "markdown",
      "metadata": {
        "id": "kbb5XU7bZ8hr",
        "colab_type": "text"
      },
      "source": [
        "## **[Example - LSE]**  \n",
        "* Consider Linear regression model, $\\mathbf{y} = \\mathbf{X}\\mathbf{\\beta} + \\mathbf{\\epsilon}$  \n",
        ",where $\\mathbf{y} = (y_1, \\cdots, y_n)^{T}$ is a vector of response, $\\mathbf{X} = (\\mathbf{X}_1, \\cdots, \\mathbf{X}_p)$ is a design matrix, $\\mathbf{\\beta} = (\\beta_1, \\cdots, \\beta_p)^{T}$ is a parameter vector and $\\mathbf{\\epsilon} = (\\epsilon_1, \\cdots, \\epsilon_n)^{T}$ is a random error vector.  \n",
        "* **Least Square Estimator, LSE**  \n",
        ">+ $\\hat{\\mathbf{\\beta}}^{LSE} = argmin_{\\mathbf{\\beta}}L(\\mathbf{\\beta}) = argmin_{\\mathbf{\\beta}}\\rVert\\mathbf{y} - \\mathbf{X\\beta}\\rVert^2 / 2$  \n",
        "> + For each $j \\le p$,  \n",
        "$L(\\mathbf{\\beta}) = (\\mathbf{X}^{T}_j\\mathbf{X}_j)\\beta^2_j/2 - \\mathbf{X}^{T}_j(\\mathbf{y}-\\mathbf{Z}_i\\mathbf{\\alpha}_j)\\beta_j + (\\mathbf{y}-\\mathbf{Z}_j\\mathbf{\\alpha}_j)^{T}(\\mathbf{y}-\\mathbf{Z}_j\\mathbf{\\alpha}_j)/2$  \n",
        "where $\\mathbf{Z}_j = (\\mathbf{X}_j, \\cdots, \\mathbf{X}_{j-1}, \\mathbf{X}_{j+1}, \\cdots, \\mathbf{X}_p)$ and $\\mathbf{\\alpha}_j = (\\beta_1, \\cdots, \\beta_{j-1}, \\beta_{j+1}, \\cdots, \\beta_p)^{T}$  \n",
        "> + Hence, $\\hat{\\beta}^{LSE}_j = \\mathbf{X}^{T}_j(\\mathbf{y}-\\mathbf{Z}_j\\mathbf{\\alpha}_j)/\\mathbf{X}^{T}_j\\mathbf{X}_j$"
      ]
    },
    {
      "cell_type": "code",
      "metadata": {
        "id": "5VvS-_a2Z8hs",
        "colab_type": "code",
        "colab": {}
      },
      "source": [
        "import numpy as np\n",
        "import matplotlib.pyplot as plt\n",
        "%matplotlib inline"
      ],
      "execution_count": null,
      "outputs": []
    },
    {
      "cell_type": "code",
      "metadata": {
        "id": "Jq0ETSxtZ8hx",
        "colab_type": "code",
        "colab": {}
      },
      "source": [
        "def lseCD(y, X, eps=1e-7, iter_max=1000):\n",
        "    loss = []\n",
        "    p = X.shape[1]\n",
        "    bvec = np.zeros(p)\n",
        "    idx = np.arange(0, p)\n",
        "    for i in range(iter_max):\n",
        "        cur_bvec = bvec.copy()\n",
        "        for j in range(p):\n",
        "            Z = X[:, idx != j]\n",
        "            avec = bvec[idx != j]\n",
        "            dn = np.sum(X[:, j]**2)\n",
        "            up = np.sum(X[:, j] * (y - np.matmul(Z, avec)))\n",
        "            bvec[j] = up / dn\n",
        "        loss.append(np.sum((y - np.matmul(X, bvec))**2))\n",
        "        if np.sum(np.abs(cur_bvec - bvec)) < eps: break\n",
        "    return bvec, loss, i"
      ],
      "execution_count": null,
      "outputs": []
    },
    {
      "cell_type": "code",
      "metadata": {
        "id": "YOnh7qj7Z8h0",
        "colab_type": "code",
        "colab": {},
        "outputId": "d5e41908-62d5-41d5-920e-b3cd141cecd1"
      },
      "source": [
        "n = 10\n",
        "p = 5\n",
        "bvec = np.ones(p)\n",
        "X = np.random.normal(0, 1, [n, p])\n",
        "y = np.matmul(X, bvec) + np.random.normal(0, 1, n)\n",
        "beta, loss, iteration = lseCD(y, X)\n",
        "beta"
      ],
      "execution_count": null,
      "outputs": [
        {
          "output_type": "execute_result",
          "data": {
            "text/plain": [
              "array([1.97888093, 1.49644906, 0.5899192 , 1.47807672, 1.53874451])"
            ]
          },
          "metadata": {
            "tags": []
          },
          "execution_count": 116
        }
      ]
    },
    {
      "cell_type": "code",
      "metadata": {
        "id": "eS30D5puZ8h3",
        "colab_type": "code",
        "colab": {},
        "outputId": "0b18a068-7c05-4c64-fac0-740cac443f88"
      },
      "source": [
        "plt.scatter(range(iteration + 1), loss)\n",
        "plt.title('loss graph')\n",
        "plt.show()"
      ],
      "execution_count": null,
      "outputs": [
        {
          "output_type": "display_data",
          "data": {
            "image/png": "[encoded data removed]",
            "text/plain": [
              "<Figure size 432x288 with 1 Axes>"
            ]
          },
          "metadata": {
            "tags": [],
            "needs_background": "light"
          }
        }
      ]
    },
    {
      "cell_type": "markdown",
      "metadata": {
        "id": "UzbI2f6AZ8h7",
        "colab_type": "text"
      },
      "source": [
        "## **[Example - LASSO]**  \n",
        "* **Least Absolute Selection and Shrinkage Opterator, LASSO**  \n",
        "> + $\\hat{\\mathbf{\\beta}}^{LASSO} = argmin_{\\mathbf{\\beta}}L_{\\lambda}(\\mathbf{\\beta}) = argmin_{\\mathbf{\\beta}}\\{\\rVert\\mathbf{y} - \\mathbf{X\\beta}\\rVert^2/2 + \\lambda \\rVert\\mathbf{\\beta}\\rVert_1\\}$  \n",
        ",for some constant $\\lambda > 0$, where $\\lambda$ is often called the tuning parameter.  \n",
        "> + For each $j \\le p$,  \n",
        "$L_{\\lambda}(\\mathbf{\\beta}) = (\\mathbf{X}^{T}_j\\mathbf{X}_j)\\beta^2_j/2 - \\mathbf{X}^T(\\mathbf{y} - \\mathbf{Z}_j\\mathbf{\\alpha}_j)\\beta_j + \\lambda|\\beta_j| + (\\mathbf{y} - \\mathbf{Z}_j\\mathbf{\\alpha}_j)^T(\\mathbf{y} - \\mathbf{Z}_j\\mathbf{\\alpha}_j)/2 + \\lambda\\rVert\\mathbf{\\alpha}_j\\rVert_1$  \n",
        "> + Hence, $\\hat{\\beta}^{LASSO}_j = S_{\\lambda/\\mathbf{X}^T_j\\mathbf{X}_j}(\\mathbf{X}^T_j(\\mathbf{y} - \\mathbf{Z}_j\\mathbf{\\alpha}_j) / \\mathbf{X}^T_j\\mathbf{X}_j) = S_{\\lambda/\\mathbf{X}^T_j\\mathbf{X}_j}(\\hat{\\beta}^{LSE}_j)$  \n",
        "where $S_{\\lambda} = sign(x)(|x| - \\lambda)_{+}$ and $c_{+} = cI(c>0)$"
      ]
    },
    {
      "cell_type": "code",
      "metadata": {
        "id": "3hmq9DUHZ8h7",
        "colab_type": "code",
        "colab": {}
      },
      "source": [
        "def softThresh(x, lam):\n",
        "    ret = np.sign(x) * (np.abs(x) - lam) * (abs(x) > lam)\n",
        "    return ret"
      ],
      "execution_count": null,
      "outputs": []
    },
    {
      "cell_type": "code",
      "metadata": {
        "id": "2IISw-_dZ8h-",
        "colab_type": "code",
        "colab": {}
      },
      "source": [
        "def lassoCD(y, X, lam, eps=1e-7, iter_max=1000):\n",
        "    loss = []\n",
        "    p = X.shape[1]\n",
        "    bvec = np.zeros(p)\n",
        "    idx = np.arange(0, p)\n",
        "    for i in range(iter_max):\n",
        "        cur_bvec = bvec.copy()\n",
        "        for j in range(p):\n",
        "            Z = X[:, idx != j]\n",
        "            avec = bvec[idx != j]\n",
        "            dn = np.sum(X[:, j]**2)\n",
        "            up = np.sum(X[:, j] * (y - np.matmul(Z, avec)))\n",
        "            bvec[j] = softThresh(up/dn, lam/dn)\n",
        "        loss.append(np.sum((y - np.matmul(X, bvec))**2))\n",
        "    return bvec, loss, i"
      ],
      "execution_count": null,
      "outputs": []
    },
    {
      "cell_type": "code",
      "metadata": {
        "id": "T090bgt2Z8iC",
        "colab_type": "code",
        "colab": {},
        "outputId": "303f47be-8676-4bbd-8aa1-58b3f3d19fa2"
      },
      "source": [
        "n = 10\n",
        "p = 11\n",
        "bvec = np.ones(p)\n",
        "X = np.random.normal(0, 1, [n, p])\n",
        "y = np.matmul(X, bvec) + np.random.normal(0, 1, n)\n",
        "beta, loss, iteration = lassoCD(y, X, 1) \n",
        "beta"
      ],
      "execution_count": null,
      "outputs": [
        {
          "output_type": "execute_result",
          "data": {
            "text/plain": [
              "array([ 0.29266696,  1.20623952, -0.        , -0.        ,  0.47794823,\n",
              "        1.05455985, -0.        ,  1.03838628,  0.77916843,  0.9635943 ,\n",
              "        0.        ])"
            ]
          },
          "metadata": {
            "tags": []
          },
          "execution_count": 120
        }
      ]
    },
    {
      "cell_type": "code",
      "metadata": {
        "id": "iW3BGahoZ8iF",
        "colab_type": "code",
        "colab": {},
        "outputId": "9f6cce2e-2351-4e93-cecc-d9b7273cea2a"
      },
      "source": [
        "plt.scatter(range(iteration + 1), loss)\n",
        "plt.title('loss graph')\n",
        "plt.show()"
      ],
      "execution_count": null,
      "outputs": [
        {
          "output_type": "display_data",
          "data": {
            "image/png": "[encoded data removed]",
            "text/plain": [
              "<Figure size 432x288 with 1 Axes>"
            ]
          },
          "metadata": {
            "tags": [],
            "needs_background": "light"
          }
        }
      ]
    },
    {
      "cell_type": "markdown",
      "metadata": {
        "id": "W64qoy_sZ8iI",
        "colab_type": "text"
      },
      "source": [
        "---\n",
        "# **2. Gradient Descent Algorithm**"
      ]
    },
    {
      "cell_type": "markdown",
      "metadata": {
        "id": "b6-54uuKZ8iI",
        "colab_type": "text"
      },
      "source": [
        "***Moving a point for a direction with a stepsize***  \n",
        "* **Univariate function**  \n",
        ">+ The first key idea is to understand \"moving a point $x_n$ to $x_{n+1}$\" as \"choosing an equation\" between (1) and (2)  \n",
        "(1) : $x_{n+1} = x_n + \\alpha \\Rightarrow$ move to the right  \n",
        "(2) : $x_{n+1} = x_n - \\alpha \\Rightarrow$ move to the left  \n",
        "where $\\alpha >0$ is very small positive constant  \n",
        ">+ Hence, when $f$ is differentiable, $x_{n+1} = x_n - \\alpha \\nabla f(x_n)$  \n",
        ">+ Move $x_n$ for a direction $-\\nabla f(x_n)$ with a stepsize $\\alpha > 0$  \n",
        "\n"
      ]
    },
    {
      "cell_type": "markdown",
      "metadata": {
        "id": "UQ_yjRqAZ8iJ",
        "colab_type": "text"
      },
      "source": [
        "* **Multivariate function**  \n",
        ">+ when the function $f$ is multivariate, there are infinitely many directions to move.  \n",
        ">+ **(Direction opposite to current gradient)**  \n",
        ": Assume that $\\nabla f(\\mathbf{x}) \\ne \\mathbf{0}$ for some fixed point $\\mathbf{x}$  \n",
        ": Let $\\mathbf{x}_{\\alpha} = \\mathbf{x} - \\alpha \\nabla f(\\mathbf{x})$ then by the first order Taylor's expansion around $\\mathbf{x}$, we have  \n",
        "$f(\\mathbf{x}_{\\alpha}) = f(\\mathbf{x}) + \\nabla f(\\mathbf{x})^T(\\mathbf{x}_{\\alpha}-\\mathbf{x}) + o(\\rVert \\mathbf{x}_{\\alpha}-\\mathbf{x} \\rVert)$  \n",
        "$= f(\\mathbf{x}) - \\alpha \\rVert \\nabla f(\\mathbf{x}) \\rVert^2 + o(\\alpha \\rVert \\nabla f(\\mathbf{x}) \\rVert^2)$  \n",
        "$= f(\\mathbf{x}) - \\alpha \\rVert \\nabla f(\\mathbf{x}) \\rVert^2 + o(\\alpha)$  \n",
        "$\\Rightarrow f(\\mathbf{x}_{\\alpha}) - f(\\mathbf{x}) < -\\alpha \\rVert\\nabla f(\\mathbf{x}) \\rVert^2 < 0$  \n",
        ">+ **(General descent condition)**  \n",
        ": Consider $\\mathbf{x}_{\\alpha}  = \\mathbf{x} + \\alpha \\mathbf{d}$ ,$\\forall \\alpha >0$ where the direction $\\mathbf{d}$ satisfies the descent condition where it makes an angle with $\\nabla f(\\mathbf{x})$ that is greater than 90 degrees,  \n",
        "that is, $\\nabla f(\\mathbf{x})^T\\mathbf{d} < 0$  \n",
        ": By the Taylor's expansion, $f(\\mathbf{x}_{\\alpha}) - f(\\mathbf{x}) < \\alpha \\nabla f(\\mathbf{x})^T\\mathbf{d} < 0$  \n",
        "for all sufficiently small $\\alpha > 0$"
      ]
    },
    {
      "cell_type": "markdown",
      "metadata": {
        "id": "wrxE1XJSZ8iK",
        "colab_type": "text"
      },
      "source": [
        "## **Algorithm**  \n",
        ">1. Take an initial $\\mathbf{x}_1$  \n",
        ">2. For $n = 1, 2, \\cdots, $  \n",
        "    (1) Choose a direction $\\mathbf{d}_n$ and a stepsize $\\alpha_n$ and set $\\mathbf{x}_{n+1} = \\mathbf{x}_n + \\alpha_n\\mathbf{d}_n$  \n",
        ">3. If $\\rVert \\mathbf{x}_{n+1} - \\mathbf{x}_n \\rVert < \\epsilon$ then stop.  \n",
        ">4. Set $\\hat{\\mathbf{x}} = \\mathbf{x}_n$   \n",
        "\n",
        "* **the key step is (1)**  \n",
        ": If $\\nabla f(\\mathbf{x}_n)^T\\mathbf{d}_n > 0$ then cannot guarantee the descent property.  \n",
        ": If $\\alpha_n$ is too small the convergence speed is too late.  \n"
      ]
    },
    {
      "cell_type": "markdown",
      "metadata": {
        "id": "jjBbn0vLZ8iK",
        "colab_type": "text"
      },
      "source": [
        "## **Selecting the descent direction**  \n",
        ">* **General form of GD algorithm**  \n",
        ": The most popular form of the GD algorithm is specified by $\\mathbf{x}_{n+1} = \\mathbf{x}_n - \\alpha_n\\mathbf{D}_n\\nabla f(\\mathbf{x}_n)$  \n",
        ",where $\\mathbf{D}_n$ is a strictly positive definite symmetric matrix and $\\alpha_n$ is a stepsize.  \n",
        ": $\\mathbf{d}_n = -\\mathbf{D}_n \\nabla f(\\mathbf{x})$  \n",
        "$~\\nabla f(\\mathbf{x}_n)^T\\mathbf{D}_n\\nabla f(\\mathbf{x}_n) > 0$ because of the strictly positive definiteness of $\\mathbf{D}_n$  \n",
        "\n",
        ">* **Steepest descent method**  \n",
        ": $\\mathbf{D}_n = \\mathbf{I}_p \\Rightarrow \\mathbf{x}_{n+1} = \\mathbf{x}_n - \\alpha \\nabla f(\\mathbf{x}_n)$  \n",
        "$~\\nabla f(\\mathbf{x}_n)^T\\mathbf{d}_n \\ge - \\rVert \\nabla f(\\mathbf{x}_n) \\rVert \\rVert \\mathbf{d}_n \\rVert = -\\rVert \\nabla f(\\mathbf{x}) \\rVert < 0$ ,$\\forall \\rVert\\mathbf{d}_n \\rVert = 1$ by the Schwartz inequality  \n",
        ": Hence, $\\mathbf{d}_n = -\\nabla f(\\mathbf{x}_n) / \\rVert\\nabla f(\\mathbf{x}_n) \\rVert$ where the equality holds for the Schwartz inequality  \n",
        ": the gradient direction is almost orthogonal to the direction for the minimum. Hence, the GD algorithm shows 'zig-zagging' behavior without making fast progress.  \n",
        "\n",
        ">* **Newton's method**  \n",
        ": Assume that $f$ is convex and twice differentiable  \n",
        ": $\\mathbf{D}_n = \\nabla^2f(\\mathbf{x}_n)^{-1} \\Rightarrow \\mathbf{x}_{n+1} = \\mathbf{x}_n -\\alpha_n \\nabla^2f(\\mathbf{x}_n)^{-1}\\nabla f(\\mathbf{x})$ ,where $\\nabla^2f(\\mathbf{x}_n)$ is strictly positive definite  \n",
        ": typically converges vary fast and does not exhibit 'zig-zagging' behavior  "
      ]
    },
    {
      "cell_type": "markdown",
      "metadata": {
        "id": "KLvNwaLpZ8iL",
        "colab_type": "text"
      },
      "source": [
        "## **Newton-Raphson**  \n",
        "* Newton-Raphson algorithm is a gradient descent algorithm when $\\alpha_n = 1$ ,$\\mathbf{D}_n = \\nabla^2f(\\mathbf{x}_n)^{-1} \\Rightarrow \\mathbf{x}_{n+1} = \\mathbf{x}_n - \\nabla^2f(\\mathbf{x}_n)^{-1}\\nabla f(\\mathbf{x})$  \n",
        "* Suppose $f : \\mathit{D} \\rightarrow \\mathbb{R}^p$ is convex and twice differentiable, has second derivaton on $\\mathit{D}$  \n",
        "    + The second order approximation of $f$ at $\\mathbf{x}_0$ becomes  \n",
        "    $f(\\mathbf{x}) \\approx q(\\mathbf{x}) = f(\\mathbf{x}_0) + \\nabla f(\\mathbf{x}_0)^T(\\mathbf{x} - \\mathbf{x}_0) +(\\mathbf{x} - \\mathbf{x}_0)^T\\nabla^2f(\\mathbf{x}_0)(\\mathbf{x} - \\mathbf{x}_0)/2$ around $\\mathbf{x}_n$  \n",
        "    ,where $\\nabla f(\\mathbf{x}_0)$ is the gradient vector of $f$ at $\\mathbf{x}_0$ and  $\\nabla^2f(\\mathbf{x}_0)$ is the Hessian matrix of $f$ at $\\mathbf{x}_0$  \n",
        "    + Minimizing the quadratic approximation $q$ around $\\mathbf{x}_n$  \n",
        "    + By taking the derivative to zero,  \n",
        "    $\\nabla f(\\mathbf{x}_n) = \\nabla^2f(\\mathbf{x}_n)(\\mathbf{x} - \\mathbf{x}_n) = 0  \\Leftrightarrow \\mathbf{x} = \\mathbf{x}_n - \\nabla f(\\mathbf{x}_n)^{-1} \\nabla f(\\mathbf{x}_n)$  \n",
        "* Hence, the Newton-Raphson Algorithm can be thought of a successive minimization of quadratic approximations \n",
        "$\\mathbf{x}_{n+1} = \\mathbf{x}_n - \\alpha \\nabla^2f(\\mathbf{x}_n)^{-1}\\nabla f(\\mathbf{x})$"
      ]
    },
    {
      "cell_type": "markdown",
      "metadata": {
        "id": "QPC_UG1XZ8iL",
        "colab_type": "text"
      },
      "source": [
        "## **[Example - LogisticRegression]**  \n",
        "* The estimator(mle) is the minimizer of the logistic loss:  \n",
        "$\\hat{\\mathbf{\\beta}} = argmin_{\\mathbf{\\beta}}L(\\mathbf{\\beta})= argmin_{\\mathbf{\\beta}}\\sum^{n}_{i=1}\\{-y_i \\mathbf{x}^T_i \\mathbf{\\beta} +log(1+exp(\\mathbf{x}^T_i\\mathbf{\\beta}))\\}$  \n",
        "which can be obtained by modeling $f(\\mathbf{x}^T_i\\mathbf{\\beta}) = exp(\\mathbf{x}^T_i\\mathbf{\\beta}) / \\{ 1+exp(\\mathbf{x}^T_i\\mathbf{\\beta})\\}$  \n",
        "* $\\nabla L(\\mathbf{\\beta}) = \\sum^{n}_{i=1}[-y_i + exp(\\mathbf{x}^T_i\\mathbf{\\beta}) / \\{1+exp(\\mathbf{x}^T_i\\mathbf{\\beta})\\}]\\mathbf{x}_i$"
      ]
    },
    {
      "cell_type": "code",
      "metadata": {
        "id": "mjxgysxuZ8iM",
        "colab_type": "code",
        "colab": {}
      },
      "source": [
        "def getLoss(y, X, bvec):\n",
        "    xbvec = np.matmul(X, bvec)\n",
        "    loss = -np.sum(y * xbvec) + np.sum(np.log(1 + np.exp(xbvec)))\n",
        "    return loss\n",
        "\n",
        "def getGrad(y, X, bvec):\n",
        "    xbvec = np.minimum(np.matmul(X, bvec), 700)\n",
        "    exbvec = np.exp(xbvec)\n",
        "    pvec = exbvec / (1 + exbvec)\n",
        "    grad = np.matmul(np.transpose(X), (pvec - y))\n",
        "    return grad\n",
        "\n",
        "def logisticGD(y, X, bvec, eps=1e-7, iter_max=1000):\n",
        "    losses = []\n",
        "    for i in range(iter_max):\n",
        "        alpha = 1\n",
        "        gvec = getGrad(y, X, bvec)\n",
        "        loss = getLoss(y, X, bvec)\n",
        "        losses.append(loss)\n",
        "        # stepsize from the backtracking rule\n",
        "        for j in range(iter_max):\n",
        "            nbvec = bvec - alpha * gvec # new bvec\n",
        "            if getLoss(y, X, nbvec) < loss: break\n",
        "            alpha = alpha / 2\n",
        "        if np.sum(np.abs(nbvec - bvec)) < eps: break\n",
        "        bvec = nbvec.copy()\n",
        "    return bvec, losses, i"
      ],
      "execution_count": null,
      "outputs": []
    },
    {
      "cell_type": "code",
      "metadata": {
        "id": "PLcd0AFMZ8iP",
        "colab_type": "code",
        "colab": {},
        "outputId": "882378d6-69f9-43ec-c84d-d767f205d4ee"
      },
      "source": [
        "n = 100\n",
        "p = 20\n",
        "X = np.random.normal(0, 1, [n, p])\n",
        "y = np.random.choice([0, 1], n, replace=True)\n",
        "bvec = np.zeros(p)\n",
        "betaGD, loss, iteration = logisticGD(y, X, bvec)\n",
        "betaGD"
      ],
      "execution_count": null,
      "outputs": [
        {
          "output_type": "execute_result",
          "data": {
            "text/plain": [
              "array([-0.21986229, -0.24421996, -0.1642458 , -0.06291972,  0.18175028,\n",
              "       -0.24288292, -0.33729176,  0.24733213, -0.31099921, -0.09760213,\n",
              "       -0.11526062,  0.54991669, -0.25218506,  0.0630333 , -0.32395103,\n",
              "        0.58067469, -0.12044125,  0.06332383, -0.62311939, -0.27509036])"
            ]
          },
          "metadata": {
            "tags": []
          },
          "execution_count": 124
        }
      ]
    },
    {
      "cell_type": "code",
      "metadata": {
        "id": "2xHzPnZ5Z8iS",
        "colab_type": "code",
        "colab": {},
        "outputId": "a2074774-1562-491c-cc13-1d3e7d966c5e"
      },
      "source": [
        "plt.scatter(range(iteration + 1), loss)\n",
        "plt.title('loss graph GD')\n",
        "plt.show()"
      ],
      "execution_count": null,
      "outputs": [
        {
          "output_type": "display_data",
          "data": {
            "image/png": "[encoded data removed]",
            "text/plain": [
              "<Figure size 432x288 with 1 Axes>"
            ]
          },
          "metadata": {
            "tags": [],
            "needs_background": "light"
          }
        }
      ]
    },
    {
      "cell_type": "code",
      "metadata": {
        "id": "yxH579NRZ8iU",
        "colab_type": "code",
        "colab": {}
      },
      "source": [
        "def getHess(y, X, bvec):\n",
        "    xbvec = np.minimum(np.matmul(X, bvec), 700)\n",
        "    exbvec = np.exp(xbvec)\n",
        "    pvec = exbvec / (1 + exbvec)\n",
        "    wvec = pvec * (1 - pvec)\n",
        "    hess = np.matmul(np.matmul(np.transpose(X), np.diag(wvec)), X)\n",
        "    return hess"
      ],
      "execution_count": null,
      "outputs": []
    },
    {
      "cell_type": "code",
      "metadata": {
        "id": "2McCgbZkZ8iX",
        "colab_type": "code",
        "colab": {}
      },
      "source": [
        "def logisticNR(y, X, bvec, eps=1e-7, iter_max=1000):\n",
        "    loss = []\n",
        "    for i in range(iter_max):\n",
        "        loss.append(getLoss(y, X, bvec))\n",
        "        hess = getHess(y, X, bvec)\n",
        "        grad = getGrad(y, X, bvec)\n",
        "        nbvec = bvec - np.matmul(np.linalg.inv(hess), grad) # new bvec\n",
        "        if np.sum(np.abs(nbvec - bvec)) < eps: break\n",
        "        bvec = nbvec\n",
        "    return bvec, loss, i"
      ],
      "execution_count": null,
      "outputs": []
    },
    {
      "cell_type": "code",
      "metadata": {
        "id": "vu7hHAbbZ8ia",
        "colab_type": "code",
        "colab": {},
        "outputId": "8be879f9-a26e-4661-a178-4d09b967e545"
      },
      "source": [
        "betaNR, loss, iteration = logisticNR(y, X, bvec)\n",
        "betaNR"
      ],
      "execution_count": null,
      "outputs": [
        {
          "output_type": "execute_result",
          "data": {
            "text/plain": [
              "array([-0.21986231, -0.24421997, -0.1642458 , -0.06291973,  0.18175029,\n",
              "       -0.24288293, -0.33729175,  0.24733214, -0.31099922, -0.09760213,\n",
              "       -0.11526063,  0.5499167 , -0.25218507,  0.0630333 , -0.32395102,\n",
              "        0.58067469, -0.12044125,  0.06332384, -0.62311941, -0.27509037])"
            ]
          },
          "metadata": {
            "tags": []
          },
          "execution_count": 128
        }
      ]
    },
    {
      "cell_type": "code",
      "metadata": {
        "id": "o7oKYvbeZ8id",
        "colab_type": "code",
        "colab": {},
        "outputId": "7adb1c68-c5b1-4e79-e911-975707e7300f"
      },
      "source": [
        "plt.scatter(range(iteration + 1), loss)\n",
        "plt.title('loss graph NR')\n",
        "plt.show()"
      ],
      "execution_count": null,
      "outputs": [
        {
          "output_type": "display_data",
          "data": {
            "image/png": "[encoded data removed]",
            "text/plain": [
              "<Figure size 432x288 with 1 Axes>"
            ]
          },
          "metadata": {
            "tags": [],
            "needs_background": "light"
          }
        }
      ]
    },
    {
      "cell_type": "code",
      "metadata": {
        "id": "jbSq2NCWZ8ih",
        "colab_type": "code",
        "colab": {}
      },
      "source": [
        "from sklearn.linear_model import LogisticRegression\n",
        "import pandas as pd"
      ],
      "execution_count": null,
      "outputs": []
    },
    {
      "cell_type": "code",
      "metadata": {
        "id": "6UmdlU62Z8ik",
        "colab_type": "code",
        "colab": {},
        "outputId": "51ab8a78-52ff-4e7b-d3fc-ab9b4873ee53"
      },
      "source": [
        "clf = LogisticRegression(penalty='none', solver='newton-cg')\n",
        "clf.fit(X, y)\n",
        "betaLR = clf.coef_.squeeze()\n",
        "betaLR"
      ],
      "execution_count": null,
      "outputs": [
        {
          "output_type": "execute_result",
          "data": {
            "text/plain": [
              "array([-0.24081419, -0.24251558, -0.17889902, -0.07141892,  0.19928645,\n",
              "       -0.23724011, -0.32752683,  0.24444699, -0.29836145, -0.12410976,\n",
              "       -0.10930502,  0.54399663, -0.23151879,  0.06068003, -0.31219749,\n",
              "        0.62430111, -0.11412448,  0.04836757, -0.60472988, -0.27958893])"
            ]
          },
          "metadata": {
            "tags": []
          },
          "execution_count": 131
        }
      ]
    },
    {
      "cell_type": "code",
      "metadata": {
        "id": "SteSrLXEZ8im",
        "colab_type": "code",
        "colab": {},
        "outputId": "90cc654e-47e0-4a45-adc6-b2d8c7f81333"
      },
      "source": [
        "pd.DataFrame([betaGD, betaNR, betaLR], index=['GD', 'NR', 'newton-cg']).transpose()"
      ],
      "execution_count": null,
      "outputs": [
        {
          "output_type": "execute_result",
          "data": {
            "text/html": [
              "<div>\n",
              "<style scoped>\n",
              "    .dataframe tbody tr th:only-of-type {\n",
              "        vertical-align: middle;\n",
              "    }\n",
              "\n",
              "    .dataframe tbody tr th {\n",
              "        vertical-align: top;\n",
              "    }\n",
              "\n",
              "    .dataframe thead th {\n",
              "        text-align: right;\n",
              "    }\n",
              "</style>\n",
              "<table border=\"1\" class=\"dataframe\">\n",
              "  <thead>\n",
              "    <tr style=\"text-align: right;\">\n",
              "      <th></th>\n",
              "      <th>GD</th>\n",
              "      <th>NR</th>\n",
              "      <th>newton-cg</th>\n",
              "    </tr>\n",
              "  </thead>\n",
              "  <tbody>\n",
              "    <tr>\n",
              "      <th>0</th>\n",
              "      <td>-0.219862</td>\n",
              "      <td>-0.219862</td>\n",
              "      <td>-0.240814</td>\n",
              "    </tr>\n",
              "    <tr>\n",
              "      <th>1</th>\n",
              "      <td>-0.244220</td>\n",
              "      <td>-0.244220</td>\n",
              "      <td>-0.242516</td>\n",
              "    </tr>\n",
              "    <tr>\n",
              "      <th>2</th>\n",
              "      <td>-0.164246</td>\n",
              "      <td>-0.164246</td>\n",
              "      <td>-0.178899</td>\n",
              "    </tr>\n",
              "    <tr>\n",
              "      <th>3</th>\n",
              "      <td>-0.062920</td>\n",
              "      <td>-0.062920</td>\n",
              "      <td>-0.071419</td>\n",
              "    </tr>\n",
              "    <tr>\n",
              "      <th>4</th>\n",
              "      <td>0.181750</td>\n",
              "      <td>0.181750</td>\n",
              "      <td>0.199286</td>\n",
              "    </tr>\n",
              "    <tr>\n",
              "      <th>5</th>\n",
              "      <td>-0.242883</td>\n",
              "      <td>-0.242883</td>\n",
              "      <td>-0.237240</td>\n",
              "    </tr>\n",
              "    <tr>\n",
              "      <th>6</th>\n",
              "      <td>-0.337292</td>\n",
              "      <td>-0.337292</td>\n",
              "      <td>-0.327527</td>\n",
              "    </tr>\n",
              "    <tr>\n",
              "      <th>7</th>\n",
              "      <td>0.247332</td>\n",
              "      <td>0.247332</td>\n",
              "      <td>0.244447</td>\n",
              "    </tr>\n",
              "    <tr>\n",
              "      <th>8</th>\n",
              "      <td>-0.310999</td>\n",
              "      <td>-0.310999</td>\n",
              "      <td>-0.298361</td>\n",
              "    </tr>\n",
              "    <tr>\n",
              "      <th>9</th>\n",
              "      <td>-0.097602</td>\n",
              "      <td>-0.097602</td>\n",
              "      <td>-0.124110</td>\n",
              "    </tr>\n",
              "    <tr>\n",
              "      <th>10</th>\n",
              "      <td>-0.115261</td>\n",
              "      <td>-0.115261</td>\n",
              "      <td>-0.109305</td>\n",
              "    </tr>\n",
              "    <tr>\n",
              "      <th>11</th>\n",
              "      <td>0.549917</td>\n",
              "      <td>0.549917</td>\n",
              "      <td>0.543997</td>\n",
              "    </tr>\n",
              "    <tr>\n",
              "      <th>12</th>\n",
              "      <td>-0.252185</td>\n",
              "      <td>-0.252185</td>\n",
              "      <td>-0.231519</td>\n",
              "    </tr>\n",
              "    <tr>\n",
              "      <th>13</th>\n",
              "      <td>0.063033</td>\n",
              "      <td>0.063033</td>\n",
              "      <td>0.060680</td>\n",
              "    </tr>\n",
              "    <tr>\n",
              "      <th>14</th>\n",
              "      <td>-0.323951</td>\n",
              "      <td>-0.323951</td>\n",
              "      <td>-0.312197</td>\n",
              "    </tr>\n",
              "    <tr>\n",
              "      <th>15</th>\n",
              "      <td>0.580675</td>\n",
              "      <td>0.580675</td>\n",
              "      <td>0.624301</td>\n",
              "    </tr>\n",
              "    <tr>\n",
              "      <th>16</th>\n",
              "      <td>-0.120441</td>\n",
              "      <td>-0.120441</td>\n",
              "      <td>-0.114124</td>\n",
              "    </tr>\n",
              "    <tr>\n",
              "      <th>17</th>\n",
              "      <td>0.063324</td>\n",
              "      <td>0.063324</td>\n",
              "      <td>0.048368</td>\n",
              "    </tr>\n",
              "    <tr>\n",
              "      <th>18</th>\n",
              "      <td>-0.623119</td>\n",
              "      <td>-0.623119</td>\n",
              "      <td>-0.604730</td>\n",
              "    </tr>\n",
              "    <tr>\n",
              "      <th>19</th>\n",
              "      <td>-0.275090</td>\n",
              "      <td>-0.275090</td>\n",
              "      <td>-0.279589</td>\n",
              "    </tr>\n",
              "  </tbody>\n",
              "</table>\n",
              "</div>"
            ],
            "text/plain": [
              "          GD        NR  newton-cg\n",
              "0  -0.219862 -0.219862  -0.240814\n",
              "1  -0.244220 -0.244220  -0.242516\n",
              "2  -0.164246 -0.164246  -0.178899\n",
              "3  -0.062920 -0.062920  -0.071419\n",
              "4   0.181750  0.181750   0.199286\n",
              "5  -0.242883 -0.242883  -0.237240\n",
              "6  -0.337292 -0.337292  -0.327527\n",
              "7   0.247332  0.247332   0.244447\n",
              "8  -0.310999 -0.310999  -0.298361\n",
              "9  -0.097602 -0.097602  -0.124110\n",
              "10 -0.115261 -0.115261  -0.109305\n",
              "11  0.549917  0.549917   0.543997\n",
              "12 -0.252185 -0.252185  -0.231519\n",
              "13  0.063033  0.063033   0.060680\n",
              "14 -0.323951 -0.323951  -0.312197\n",
              "15  0.580675  0.580675   0.624301\n",
              "16 -0.120441 -0.120441  -0.114124\n",
              "17  0.063324  0.063324   0.048368\n",
              "18 -0.623119 -0.623119  -0.604730\n",
              "19 -0.275090 -0.275090  -0.279589"
            ]
          },
          "metadata": {
            "tags": []
          },
          "execution_count": 132
        }
      ]
    },
    {
      "cell_type": "markdown",
      "metadata": {
        "id": "kDckrc4QZ8ip",
        "colab_type": "text"
      },
      "source": [
        "---\n",
        "# **3. Modified local quadratic approximation algorithm**"
      ]
    },
    {
      "cell_type": "markdown",
      "metadata": {
        "id": "TvS4kpDbZ8iq",
        "colab_type": "text"
      },
      "source": [
        "Let $f : \\mathbb{R}^p \\rightarrow \\mathbb{R}$ be a convex function  \n",
        "* **local linear approximation function $l$ of $f$ at $\\mathbf{x} = \\mathbf{x}^c$**  \n",
        "$f_{l}(\\mathbf{x}|\\mathbf{x}^c) = f(\\mathbf{x}^c) + \\nabla f(\\mathbf{x}^c)^T(\\mathbf{x}-\\mathbf{x}^c)$  \n",
        "    + $\\nabla f(\\mathbf{x}^c)$ : gradient vector of $f$ at $\\mathbf{x}^c$  \n",
        "    + gradient dexcent algorithm  $\\mathbf{x}^{\\alpha} = \\mathbf{x}^c - \\alpha \\nabla f(\\mathbf{x}^c)$, with a step size $\\alpha > 0$  \n",
        "* **local quadratic approximation function $q$ of $f$ at $\\mathbf{x} = \\mathbf{x}^c$**  \n",
        "$f_q(\\mathbf{x}|\\mathbf{x}^c) = f(\\mathbf{x}^c) + \\nabla f(\\mathbf{x}^c)^T(\\mathbf{x} - \\mathbf{x}^c) + (\\mathbf{x} - \\mathbf{x}^c)^T\\nabla^2f(\\mathbf{x}^c)(\\mathbf{x} - \\mathbf{x}^c)/2$  \n",
        "    + $\\nabla^2f(\\mathbf{x}^c)$ : Hessian matirx of $f$ at $\\mathbf{x}^c$  \n",
        "    + Newton-Raphson algorithm $\\mathbf{x}^n = \\mathbf{x}^c - \\nabla^2f(\\mathbf{x}^c)^{-1}\\nabla f(\\mathbf{x}^c) = argmin_{\\mathbf{x}}f_{q}(\\mathbf{x}|\\mathbf{x}^c)$  \n",
        "    "
      ]
    },
    {
      "cell_type": "markdown",
      "metadata": {
        "id": "c2djQG3yZ8iq",
        "colab_type": "text"
      },
      "source": [
        "Newton-Raphson Algorithm may fail to descent, that is, $f(\\mathbf{x}^{new}) > f(\\mathbf{x}^{current})$  \n",
        "* general Newton-Raphson Algorithm ; $\\mathbf{x}^{\\alpha} = \\mathbf{x}^c - \\alpha \\nabla^2 f(\\mathbf{x}^c)^{-1} \\nabla f(\\mathbf{x}^c) \\ne \\mathbf{x}^n$  , with a step size $\\alpha > 0$  \n",
        "* If $\\mathbf{x}^c$ is not the minimizer of $f$ then there exists $\\alpha > 0$ such that $f(\\mathbf{x}^{\\alpha}) < f(\\mathbf{x}^c)$  \n",
        "where $\\mathbf{x}^{\\alpha} = \\mathbf{x}^c - \\alpha \\nabla^2 f(\\mathbf{x}^c)^{-1}\\nabla f(\\mathbf{x}^c) = \\mathbf{x}^c - \\alpha(\\mathbf{x}^c - \\mathbf{x}^n)$  \n",
        "$=\\alpha \\mathbf{x}^n + (1-\\alpha)\\mathbf{x}^c$  \n",
        "    + $\\mathbf{x}^c$ is not a minimizer of $f$ so that $\\nabla f_q(\\mathbf{x}^c | \\mathbf{x}^c) = \\nabla f(\\mathbf{x}^c) \\ne \\mathbf{0}$  \n",
        "    + Hence $\\mathbf{x}^c$ is not a minimizer of $q$ which implies $f_q(\\mathbf{x}^n|\\mathbf{x}^c) < f_q(\\mathbf{x}^c | \\mathbf{x}^c)$  \n",
        "    + From the convexity of $f_q$ ,for any $\\alpha \\in (0, 1]$  \n",
        "    $f_q(\\mathbf{x}^{\\alpha}|\\mathbf{x}^c) = f_q(\\alpha \\mathbf{x}^n + (1-\\alpha)\\mathbf{x}^c | \\mathbf{x}^c) \\le \\alpha f_q(\\mathbf{x}^n | \\mathbf{x}^c) + (1-\\alpha)f_q(\\mathbf{x}^c | \\mathbf{x}^c)$  \n",
        "    + Hence $f_q(\\mathbf{x}^{\\alpha} | \\mathbf{x}^c) - f_q(\\mathbf{x}^c | \\mathbf{x}^c) \\le \\alpha(f_q(\\mathbf{x}^n|\\mathbf{x}^c) - f_q(\\mathbf{x}^c | \\mathbf{x}^c))$  \n",
        "    + using the fact that $\\nabla f(\\mathbf{x}^c) = \\nabla f_q(\\mathbf{x}^c | \\mathbf{x}^c)$,  \n",
        "    $\\lim_{\\alpha \\to \\infty}\\frac{f(\\mathbf{x}^{\\alpha}) - f(\\mathbf{x}^c)}{\\alpha} = \\lim_{\\alpha \\to \\infty}\\frac{f(\\mathbf{x}^{\\alpha}|\\mathbf{x}^c) - f(\\mathbf{x}^c|\\mathbf{x}^c)}{\\alpha} \\le f_q(\\mathbf{x}^n | \\mathbf{x}^c) - f_q(\\mathbf{x}^c|\\mathbf{x}^c) < 0$"
      ]
    },
    {
      "cell_type": "markdown",
      "metadata": {
        "id": "uc2BdzYUZ8ir",
        "colab_type": "text"
      },
      "source": [
        "## **Algorithm**  \n",
        ">1. Set an initial $\\mathbf{x}_1$  \n",
        "2. For $n \\ge 1$ ,repeat the followings until convergence.  \n",
        "    (1) Let $\\mathbf{x}_{\\alpha} = \\mathbf{x}_n -\\nabla^2f(\\mathbf{x}_n)^{-1}\\nabla f(\\mathbf{x}_n)$  \n",
        "    (2) If $f(\\mathbf{x}_{\\alpha}) < f(\\mathbf{x}_n)$ then set $\\mathbf{x}_{n+1} = \\mathbf{x}_{\\alpha}$  \n",
        "    (3) Else set $\\mathbf{x}_{n+1} = \\mathbf{x}_{\\alpha}$ ,where $\\alpha = argmin_{h \\in [0, 1]}f(h\\mathbf{x}_{\\alpha} + (1-h)\\mathbf{x}_n)$"
      ]
    }
  ]
}