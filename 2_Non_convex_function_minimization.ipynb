{
  "nbformat": 4,
  "nbformat_minor": 0,
  "metadata": {
    "kernelspec": {
      "display_name": "Python 3",
      "language": "python",
      "name": "python3"
    },
    "language_info": {
      "codemirror_mode": {
        "name": "ipython",
        "version": 3
      },
      "file_extension": ".py",
      "mimetype": "text/x-python",
      "name": "python",
      "nbconvert_exporter": "python",
      "pygments_lexer": "ipython3",
      "version": "3.7.6"
    },
    "toc": {
      "base_numbering": 1,
      "nav_menu": {},
      "number_sections": false,
      "sideBar": true,
      "skip_h1_title": false,
      "title_cell": "Table of Contents",
      "title_sidebar": "Contents",
      "toc_cell": false,
      "toc_position": {
        "height": "calc(100% - 180px)",
        "left": "10px",
        "top": "150px",
        "width": "256px"
      },
      "toc_section_display": true,
      "toc_window_display": true
    },
    "varInspector": {
      "cols": {
        "lenName": 16,
        "lenType": 16,
        "lenVar": 40
      },
      "kernels_config": {
        "python": {
          "delete_cmd_postfix": "",
          "delete_cmd_prefix": "del ",
          "library": "var_list.py",
          "varRefreshCmd": "print(var_dic_list())"
        },
        "r": {
          "delete_cmd_postfix": ") ",
          "delete_cmd_prefix": "rm(",
          "library": "var_list.r",
          "varRefreshCmd": "cat(var_dic_list()) "
        }
      },
      "types_to_exclude": [
        "module",
        "function",
        "builtin_function_or_method",
        "instance",
        "_Feature"
      ],
      "window_display": false
    },
    "colab": {
      "name": "2. Non-convex function minimization.ipynb",
      "provenance": []
    }
  },
  "cells": [
    {
      "cell_type": "markdown",
      "metadata": {
        "id": "NshC55rEa2Qt",
        "colab_type": "text"
      },
      "source": [
        "---\n",
        "# ***Non-convex function minimization***"
      ]
    },
    {
      "cell_type": "markdown",
      "metadata": {
        "id": "zyFRr6a0a2Qu",
        "colab_type": "text"
      },
      "source": [
        "# **1. Convex-ConCave-Procedure**  \n",
        "* Assume that $f$ is non-convex but can be decomposed into a sum of convex and concave functions such that $f = g+h$ ,where $g$ is convex and $h$ is concave.  \n",
        "* one of the powerful optimization algorithm for obtaining a local minimizer of $f$ ,which iteratively solves convex minimization problems.  \n",
        ">1. Define the linear approximation of $h$ at a given point $\\mathbf{x}^c$ ,that is,  \n",
        "$h_{l}(\\mathbf{x}|\\mathbf{x}^c)  = h(\\mathbf{x}_c) + \\nabla h(\\mathbf{x}^c)^T(\\mathbf{x} - \\mathbf{x}^c)$ ; convex  \n",
        ">2. Updata $\\mathbf{x}^c$ until convergence with the minimizer of  \n",
        "$f_l(\\mathbf{x}|\\mathbf{x}^c) = g(\\mathbf{x}) + h_l(\\mathbf{x} | \\mathbf{x}^c) = g(\\mathbf{x}) +h(\\mathbf{x}_c) + \\nabla h(\\mathbf{x}^c)^T(\\mathbf{x} - \\mathbf{x}^c)$  \n",
        "; convex + convex = convex  \n",
        "\n",
        "* Note that $f_l$ is convex hence can apply various optimization algorithms.  \n",
        "* It is well known that under mild conditions, the CCCP algorithm converges to a local minimizer eventually.  \n",
        "\n",
        "## **Algorithm**  \n",
        ">1. Set an initial $\\mathbf{x}_1$  \n",
        ">2. For $n=1, 2, \\cdots, $  \n",
        "    (1) Let $\\mathbf{x}_{n+1} = argmin_{\\mathbf{x}}f_l(\\mathbf{x}|\\mathbf{x}_n)$  \n",
        "    (2) If $\\rVert \\mathbf{x}_{n+1} - \\mathbf{x}_n \\rVert_2 < \\epsilon$ then stop  \n",
        ">3. Set $\\hat{\\mathbf{x}} = \\mathbf{x}_n$"
      ]
    },
    {
      "cell_type": "markdown",
      "metadata": {
        "id": "0M9vqARma2Qv",
        "colab_type": "text"
      },
      "source": [
        "---\n",
        "# **2. Sub-Gradient Descent Algorithm**  \n",
        "* What if $f$ is convex but non-differentiable?  \n",
        "* $\\mathbf{s}$ is a sub-gradient of $f$ at $\\mathbf{x}$ if $f(\\mathbf{z}) \\ge \\mathbf{s}^T(\\mathbf{z} - \\mathbf{x})$ ,$\\forall \\mathbf{z} \\in \\mathit{D}$  \n",
        "    + If $f$ is convex there is at least one sub-gradient of $f$ at any $\\mathbf{x} \\in \\mathit{D}$  \n",
        "    + If $f$ is convex and differentiable then $\\nabla f(\\mathbf{x})$ is unique sub-gradient of $f$ at $\\mathbf{x}$  \n",
        "* say the set of all sub-gradients of $f$ at $\\mathbf{x}$ the sub-differential of $f$ at $\\mathbf{x}$  \n",
        "$\\partial f(\\mathbf{x}) = \\{\\mathbf{s} | f(\\mathbf{z}) \\ge \\mathbf{s}^T(\\mathbf{z} - \\mathbf{x}), \\forall \\mathbf{z} \\in \\mathit{D}\\}$  \n",
        "* **optimality conditions**  \n",
        "    + If $f$ is convex and differentiable then $f(\\mathbf{x}^*) = inf_{\\mathbf{x}\\in \\mathit{D}}f(\\mathbf{x}) \\Leftrightarrow \\nabla f(\\mathbf{x}^*) = \\mathbf{0}$  \n",
        "    + If $f$ is non-differentiable then $f(\\mathbf{x}^*) = inf_{\\mathbf{x} \\in \\mathit{D}}f(\\mathbf{x}) \\Leftrightarrow \\mathbf{0} \\in \\partial f(\\mathbf{x}^*)$ ; sub-differential set of $\\mathbf{x}^*$  \n",
        "    \n",
        "## **Algorithm**  \n",
        "> $\\mathbf{x}_{n+1} = \\mathbf{x}_n - \\alpha_n\\mathbf{s}_n$ ,$\\mathbf{s}_n \\in \\partial f(\\mathbf{x}_n)$  \n",
        "* **Simple but not descent for every step**  \n",
        "* **step size can be determined as follow**  \n",
        "    constatnt : $\\alpha_n = \\alpha > 0$  \n",
        "    constant step length : $\\alpha_n = \\alpha \\rVert \\mathbf{s}_n \\rVert_2$  \n",
        "    square summable but non-summable  \n",
        "    : $\\sum_{n}\\alpha^2_n < \\infty$ and $\\sum_{n}\\alpha_n = \\infty, e.g. \\alpha_n = a/(b+n)$   \n",
        "    non-summable but diminishing  \n",
        "    : $\\sum_n \\alpha_n = \\infty$ and $\\lim_n \\alpha_n = 0 , e.g., \\alpha_n = a/(b+\\sqrt{n})$  \n",
        "* **stoping rule**  \n",
        "    $f^{best}_{n+1} = min\\{f^{best}_{n}, f(\\mathbf{x}_{n+1}) \\}$ , $f^{best}_{n} = min_{k \\le n}f(\\mathbf{x}_n)$\n"
      ]
    },
    {
      "cell_type": "markdown",
      "metadata": {
        "id": "oI6K3CrYa2Qw",
        "colab_type": "text"
      },
      "source": [
        "---\n",
        "# **3. Stochastic Gradient Descent**  \n",
        "* Assume that we are to minimize an empirical risk function of independent samples $(y_i, \\mathbf{x}_i) ,i \\le n$  \n",
        "    $R_n(\\mathbf{\\beta}) = \\sum^{n}_{i=1}L(y_i, f(\\mathbf{x}_i;\\mathbf{\\beta}))/m$  \n",
        "* Ordinary gradient descent algorithm with step size $\\alpha > 0$  \n",
        "    $\\mathbf{\\beta}_{k+1} = \\mathbf{\\beta}_{k} - \\alpha\\nabla R_n(\\mathbf{\\beta}_k) ,k \\ge 1$  \n",
        "    where $\\nabla R_n(\\mathbf{\\beta}) = \\sum^{n}_{i=1}\\nabla L(y_i, f(\\mathbf{x}_i;\\mathbf{\\beta}))/m$  \n",
        "* What if $n$ is huge?  \n",
        "> SGD algorithm is an alternative to gradient descent algorithm  \n",
        ": $\\mathbf{\\beta}_{k+1} = \\mathbf{\\beta}_k - \\alpha \\nabla R_{\\mathit{S}}(\\mathbf{\\beta}_k) , k \\ge 1$  \n",
        "    + $\\mathit{S}$ : random subset of $\\{1, \\cdots, n\\}$  \n",
        "    + $\\nabla R_{\\mathit{S}}(\\mathbf{\\beta}) = \\sum_{i \\in \\mathit{S}}\\nabla L(y_i, f(\\mathbf{x}_i; \\mathbf{\\beta})) / |\\mathit{S}|$  \n",
        "    + stochastic : $|\\mathit{S}| = 1$\n",
        "    + mini-batch : $|\\mathit{S}| > 1$  \n",
        "    + batch : $\\mathit{S} = \\{1, \\cdots, n\\}$"
      ]
    },
    {
      "cell_type": "markdown",
      "metadata": {
        "id": "k4nMPPNta2Qw",
        "colab_type": "text"
      },
      "source": [
        "## **[Example - LogisticRegression]**  \n",
        "* Let $R_n(\\mathbf{\\beta}) = \\sum^{n}_{i=1}(-y_i\\mathbf{x}^T_i\\mathbf{\\beta} + log(1+exp(\\mathbf{x}^T_i\\mathbf{\\beta})))/n$  \n",
        "* logistic regression  $\\hat{\\mathbf{\\beta}}^{\\lambda} = argmin_{\\mathbf{\\beta}} R_n(\\mathbf{\\beta})$  \n",
        "* convex, two times differentiable  \n"
      ]
    },
    {
      "cell_type": "markdown",
      "metadata": {
        "id": "pBPTs_lAa2Qx",
        "colab_type": "text"
      },
      "source": [
        "### **Gradient Descent**"
      ]
    },
    {
      "cell_type": "code",
      "metadata": {
        "id": "oAyhN0bja2Qx",
        "colab_type": "code",
        "colab": {}
      },
      "source": [
        "import numpy as np\n",
        "import matplotlib.pyplot as plt"
      ],
      "execution_count": null,
      "outputs": []
    },
    {
      "cell_type": "code",
      "metadata": {
        "id": "LhOccHqRa2Q1",
        "colab_type": "code",
        "colab": {}
      },
      "source": [
        "def getLoss(y, X, bvec):\n",
        "    xbvec = np.matmul(X, bvec)\n",
        "    loss = np.sum(-y * xbvec + np.log(1 + np.exp(xbvec)))\n",
        "    return loss\n",
        "\n",
        "def getGrad(y, X, bvec):\n",
        "    exbvec = np.exp(np.matmul(X, bvec))\n",
        "    pvec = exbvec / (1 + exbvec)\n",
        "    grad = np.matmul(np.transpose(X), (pvec - y))\n",
        "    return grad\n",
        "\n",
        "def logisticGD(y, X, bvec, alpha=10, eps=1e-7, iter_max=1000):\n",
        "    losses = []\n",
        "    alpha_in = alpha\n",
        "    for i in range(iter_max):\n",
        "        gvec = getGrad(y, X, bvec)\n",
        "        loss = getLoss(y, X, bvec)\n",
        "        losses.append(loss)\n",
        "        # stepsize from the backtracking rule\n",
        "        for j in range(iter_max):\n",
        "            nbvec = bvec - alpha * gvec # new bvec\n",
        "            if getLoss(y, X, nbvec) > loss: \n",
        "                alpha = alpha / 2\n",
        "            else: break\n",
        "        if np.sum(np.abs(nbvec - bvec)) < eps: break\n",
        "        bvec = nbvec.copy()\n",
        "        alpha = alpha_in\n",
        "    return bvec, losses, gvec, i"
      ],
      "execution_count": null,
      "outputs": []
    },
    {
      "cell_type": "code",
      "metadata": {
        "id": "tLK5oldxa2Q4",
        "colab_type": "code",
        "colab": {}
      },
      "source": [
        "n = 200\n",
        "p = 5\n",
        "q = 3\n",
        "X = np.random.normal(0, 1, [n, p])\n",
        "bvec = np.concatenate((np.ones(q), np.zeros(p - q)))\n",
        "exbvec = np.exp(np.matmul(X, bvec))\n",
        "pvec = exbvec / (1 + exbvec)\n",
        "y = np.random.binomial(1, pvec)"
      ],
      "execution_count": null,
      "outputs": []
    },
    {
      "cell_type": "code",
      "metadata": {
        "id": "hn7eW3A8a2Q7",
        "colab_type": "code",
        "colab": {},
        "outputId": "ac2ecca7-0740-445c-a4d6-bbd5e7410a6a"
      },
      "source": [
        "betaGD, loss, gradGD, iteration = logisticGD(y, X, np.zeros(p), alpha=1)\n",
        "betaGD, gradGD"
      ],
      "execution_count": null,
      "outputs": [
        {
          "output_type": "execute_result",
          "data": {
            "text/plain": [
              "(array([ 1.26771589,  0.9581374 ,  1.16107869, -0.0969353 ,  0.07863125]),\n",
              " array([ 7.53650924e-07,  1.05920495e-08, -8.99395672e-08,  1.56346359e-06,\n",
              "        -6.94164405e-07]))"
            ]
          },
          "metadata": {
            "tags": []
          },
          "execution_count": 145
        }
      ]
    },
    {
      "cell_type": "code",
      "metadata": {
        "id": "XKXPiMQja2RC",
        "colab_type": "code",
        "colab": {},
        "outputId": "17285268-09fb-4fcc-d050-e8c90ada61e8"
      },
      "source": [
        "plt.scatter(range(iteration + 1), loss)\n",
        "plt.title('loss graph GD')\n",
        "plt.show()"
      ],
      "execution_count": null,
      "outputs": [
        {
          "output_type": "display_data",
          "data": {
            "image/png": "[encoded data removed]",
            "text/plain": [
              "<Figure size 432x288 with 1 Axes>"
            ]
          },
          "metadata": {
            "tags": [],
            "needs_background": "light"
          }
        }
      ]
    },
    {
      "cell_type": "markdown",
      "metadata": {
        "id": "116JftKAa2RG",
        "colab_type": "text"
      },
      "source": [
        "### **SGD**"
      ]
    },
    {
      "cell_type": "code",
      "metadata": {
        "id": "_uCce7-Na2RG",
        "colab_type": "code",
        "colab": {}
      },
      "source": [
        "def logisticSGD(y, X, bvec, alpha=10, sub=10, eps=1e-7, iter_max=1000):\n",
        "    loss = []\n",
        "    n = y.shape\n",
        "    for i in range(iter_max):\n",
        "        loss.append(getLoss(y, X, bvec))\n",
        "        sample = np.random.randint(n, size=sub)\n",
        "        gvec = getGrad(y[sample], X[sample], bvec)\n",
        "        bvec = bvec - alpha * gvec\n",
        "        if np.abs(np.min(loss) - getLoss(y, X, bvec)) < eps: break\n",
        "    return  bvec, loss, gvec, i"
      ],
      "execution_count": null,
      "outputs": []
    },
    {
      "cell_type": "code",
      "metadata": {
        "id": "urbxBKZoa2RL",
        "colab_type": "code",
        "colab": {}
      },
      "source": [
        "n = 1000\n",
        "p = 5\n",
        "q = 3\n",
        "X = np.random.normal(0, 1, [n, p])\n",
        "bvec = np.concatenate((np.ones(q), np.zeros(p - q)))\n",
        "exbvec = np.exp(np.matmul(X, bvec))\n",
        "pvec = exbvec / (1 + exbvec)\n",
        "y = np.random.binomial(1, pvec)"
      ],
      "execution_count": null,
      "outputs": []
    },
    {
      "cell_type": "code",
      "metadata": {
        "id": "6jG9dYpYa2RO",
        "colab_type": "code",
        "colab": {},
        "outputId": "5d5a7a98-b23d-4d61-dc08-d17295eebc08"
      },
      "source": [
        "cnt = 1\n",
        "plt.figure(figsize=(20, 8))\n",
        "for alpha in [.01, .001]:\n",
        "    for sub in [1, 10]:\n",
        "        beta, loss, grad, iteration  = logisticSGD(y, X, np.zeros(p), alpha, sub)\n",
        "        plt.subplot(2, 2, cnt)\n",
        "        plt.scatter(range(iteration + 1), loss)\n",
        "        plt.title('loss graph SGD, alpha='+str(alpha)+' sub='+str(sub))\n",
        "        cnt = cnt + 1\n",
        "plt.show()"
      ],
      "execution_count": null,
      "outputs": [
        {
          "output_type": "display_data",
          "data": {
            "image/png": "[encoded data removed]",
            "text/plain": [
              "<Figure size 1440x576 with 4 Axes>"
            ]
          },
          "metadata": {
            "tags": [],
            "needs_background": "light"
          }
        }
      ]
    },
    {
      "cell_type": "markdown",
      "metadata": {
        "id": "V2Dw6NA4a2RR",
        "colab_type": "text"
      },
      "source": [
        "## **[Example - LASSO]**  \n",
        "* lasso for logistic regression $\\hat{\\mathbf{\\beta}}^{\\lambda} = argmin_{\\mathbf{\\beta}}R_n(\\mathbf{\\beta}) + \\lambda \\sum^{p}_{j=1}|\\beta_j|$  \n",
        "* convex, non-differentiable but separable, sub-differentiable"
      ]
    },
    {
      "cell_type": "markdown",
      "metadata": {
        "id": "6Byja4Ota2RS",
        "colab_type": "text"
      },
      "source": [
        "### **sub-gradient descent**"
      ]
    },
    {
      "cell_type": "code",
      "metadata": {
        "id": "vw-gOzKOa2RT",
        "colab_type": "code",
        "colab": {}
      },
      "source": [
        "def logisticSub(y, X, bvec, alpha=10, lam=1, eps=1e-7, iter_max=1000):\n",
        "    loss = []\n",
        "    for i in range(iter_max):\n",
        "        loss.append(getLoss(y, X, bvec))\n",
        "        gvec = getGrad(y, X, bvec) + lam * np.sign(bvec)\n",
        "        bvec = bvec - alpha * gvec\n",
        "        if np.abs(np.min(loss) - getLoss(y, X, bvec)) < eps: break\n",
        "    \n",
        "    return bvec, loss, gvec, i"
      ],
      "execution_count": null,
      "outputs": []
    },
    {
      "cell_type": "code",
      "metadata": {
        "id": "Ci33QJuwa2RW",
        "colab_type": "code",
        "colab": {},
        "outputId": "d9f5fa8f-c9ec-45a9-9f59-dac0baf8987c"
      },
      "source": [
        "cnt = 1\n",
        "plt.figure(figsize=(20, 8))\n",
        "for alpha in [.01, .001]:\n",
        "    for lam in [1, 10]:\n",
        "        beta, loss, grad, iteration  = logisticSub(y, X, np.zeros(p), alpha, lam)\n",
        "        plt.subplot(2, 2, cnt)\n",
        "        plt.scatter(range(iteration + 1), loss)\n",
        "        plt.title('loss graph SGD, alpha='+str(alpha)+' lambda='+str(lam))\n",
        "        cnt = cnt + 1\n",
        "plt.show()"
      ],
      "execution_count": null,
      "outputs": [
        {
          "output_type": "display_data",
          "data": {
            "image/png": "[encoded data removed]",
            "text/plain": [
              "<Figure size 1440x576 with 4 Axes>"
            ]
          },
          "metadata": {
            "tags": [],
            "needs_background": "light"
          }
        }
      ]
    }
  ]
}