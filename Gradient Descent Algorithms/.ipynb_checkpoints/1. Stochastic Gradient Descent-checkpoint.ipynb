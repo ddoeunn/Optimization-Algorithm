{
 "cells": [
  {
   "cell_type": "markdown",
   "metadata": {},
   "source": [
    "# **Stochastic Gradient Descent**  \n",
    "Consider sum of functions $min_{x} \\frac{1}{n} \\sum f_i(x)$. Gradient descent applied to this problem would repeat $x_k = x_{k-1} - t_k \\cdot \\frac{1}{n} \\sum \\nabla f_i(x_{k-1})$ ,$k=1, 2, 3, \\cdots$ In comparison, stochastic gradient descent repeats $x_k = x_{k-1} - t_k \\cdot \\nabla f_{ik}(x_{k-1})$ ,$k=1, 2, 3, \\cdots$ where $ik \\in \\{ 1, \\cdots, n \\}$ is chosen index at iteration $k$  \n",
    "* Typically make a (uniform) random choice $ik \\in \\{ 1, \\cdots, n \\}$  \n",
    "* Also common : mini-batch stochastic gradient descent, where we choose a random subset $I_k \\subset \\{ 1, \\cdots, n \\}$ of size $b << n$, and update according to $x_k  = x_{k-1} - t_k \\cdot \\frac{1}{b} \\sum_{i \\in I_k} \\nabla f_i(x_{k-1})$ ,$k=1, 2, 3, \\cdots$  \n",
    "* In both cases, we are approximating the full gradient by a noisy estimate and our noisy estimate is unbiased.  \n",
    "    $E[\\nabla f_{ik}(x)] = \\nabla f(x)$  \n",
    "    $E[\\frac{1}{b} \\sum_{i \\in I_k} \\nabla f_i(x)] = \\nabla f(x)$  \n",
    "    the mini-batch reduces the variance by a factor $\\frac{1}{b}$, but is $b$ times more expensive"
   ]
  },
  {
   "cell_type": "code",
   "execution_count": 47,
   "metadata": {},
   "outputs": [],
   "source": [
    "def getLoss(X, y, beta):\n",
    "    xbeta = np.matmul(X, beta)\n",
    "    loss = np.sum(-y * xbeta + np.log(1 + np.exp(xbeta))) / y.shape[0]\n",
    "    return loss\n",
    "\n",
    "def getGrad(X, y, beta):\n",
    "    exbeta = np.exp(np.matmul(X, beta))\n",
    "    pvec = exbeta / (1 + exbeta)\n",
    "    grad = np.matmul(np.transpose(X), (pvec - y))\n",
    "    return grad\n"
   ]
  },
  {
   "cell_type": "code",
   "execution_count": 222,
   "metadata": {},
   "outputs": [],
   "source": [
    "import numpy as np\n",
    "import matplotlib.pyplot as plt\n",
    "\n",
    "class StochasticGradientDescent():\n",
    "    iter_max, eps = 1000, 1e-6\n",
    "\n",
    "    def __init__(self, fx, gx, x_init, y_init, b_init, learning_rate, sub=1):\n",
    "        self.fx, self.gx = fx, gx\n",
    "        self.x, self.y, self.beta = x_init, y_init, b_init\n",
    "        self.lr, self.sub = learning_rate, sub\n",
    "        self.n = self.y.shape[0]\n",
    "        self.b_history, self.loss_history = [], []\n",
    "        print('beta_init = {}, learning rate = {}, sub = {}'.format(\n",
    "            self.beta, self.lr, self.sub))\n",
    "\n",
    "    def save_history(self, beta, z):\n",
    "        self.b_history.append(beta)\n",
    "        self.loss_history.append(z)\n",
    "\n",
    "    def SGD(self):\n",
    "        loss_old = self.fx(self.x, self.y, self.beta)\n",
    "        for i in range(self.iter_max):\n",
    "            if (i) % 100 == 0:\n",
    "                print('{}th iteration: loss = {:.4f}'.format(i, loss_old))\n",
    "            self.save_history(self.beta, loss_old)\n",
    "            sample = np.random.choice(self.n, size=self.sub, replace=False)\n",
    "            grad = self.gx(self.x[sample], self.y[sample], self.beta)\n",
    "            self.beta = self.beta - self.lr * grad\n",
    "            loss_new = self.fx(self.x, self.y, self.beta)\n",
    "            if np.abs(np.min(self.loss_history) - loss_new) < self.eps: break\n",
    "            loss_old = loss_new\n",
    "        print('{}th iteration: loss = {:.4f}, beta = {}'.format(i, loss_old, self.beta))\n",
    "        self.b_history = np.array(self.b_history)\n",
    "        self.loss_history = np.array(self.loss_history)\n",
    "    \n",
    "    def draw_loss(self):\n",
    "        plt.scatter(range(self.loss_history.shape[0]), self.loss_history, s=.3)\n",
    "        plt.title('learning_rate = {}, sub = {}'.format(self.lr, self.sub))\n",
    "        plt.show()"
   ]
  },
  {
   "cell_type": "code",
   "execution_count": 223,
   "metadata": {},
   "outputs": [],
   "source": [
    "n, p, q = 1000, 5, 3\n",
    "n, p, q = 10000, 20, 15\n",
    "X = np.random.normal(0, 1, [n, p])\n",
    "beta = np.concatenate((np.ones(q), np.zeros(p - q))) # [1, 1, 1, 0, 0]\n",
    "exbeta = np.exp(np.matmul(X, beta))\n",
    "pvec = exbeta / (1 + exbeta)\n",
    "y = np.random.binomial(1, pvec)\n",
    "b_init = np.zeros(p)"
   ]
  },
  {
   "cell_type": "code",
   "execution_count": 224,
   "metadata": {
    "scrolled": true
   },
   "outputs": [
    {
     "name": "stdout",
     "output_type": "stream",
     "text": [
      "beta_init = [0. 0. 0. 0. 0. 0. 0. 0. 0. 0. 0. 0. 0. 0. 0. 0. 0. 0. 0. 0.], learning rate = 0.01, sub = 1\n",
      "0th iteration: loss = 0.6931\n",
      "100th iteration: loss = 0.5854\n",
      "200th iteration: loss = 0.5259\n",
      "300th iteration: loss = 0.4828\n",
      "400th iteration: loss = 0.4521\n",
      "500th iteration: loss = 0.4308\n",
      "600th iteration: loss = 0.4133\n",
      "644th iteration: loss = 0.4106, beta = [ 0.25367763  0.20562226  0.35199516  0.28780106  0.32560441  0.42190269\n",
      "  0.44545167  0.45993419  0.33959682  0.37653353  0.31613398  0.24703197\n",
      "  0.32560575  0.31877245  0.36002704  0.0345435   0.13708267  0.12866428\n",
      " -0.00678173  0.0699559 ]\n"
     ]
    },
    {
     "data": {
      "image/png": "[encoded data removed]",
      "text/plain": [
       "<Figure size 432x288 with 1 Axes>"
      ]
     },
     "metadata": {
      "needs_background": "light"
     },
     "output_type": "display_data"
    },
    {
     "name": "stdout",
     "output_type": "stream",
     "text": [
      "beta_init = [0. 0. 0. 0. 0. 0. 0. 0. 0. 0. 0. 0. 0. 0. 0. 0. 0. 0. 0. 0.], learning rate = 0.01, sub = 10\n",
      "0th iteration: loss = 0.6931\n",
      "100th iteration: loss = 0.3690\n",
      "200th iteration: loss = 0.3300\n",
      "300th iteration: loss = 0.3159\n",
      "400th iteration: loss = 0.3124\n",
      "500th iteration: loss = 0.3113\n",
      "600th iteration: loss = 0.3099\n",
      "700th iteration: loss = 0.3037\n",
      "800th iteration: loss = 0.3055\n",
      "900th iteration: loss = 0.3051\n",
      "999th iteration: loss = 0.3075, beta = [ 0.9390697   1.07863144  0.94426871  0.78281469  0.7560604   0.84679031\n",
      "  0.88535539  0.94500883  0.89204388  0.94146869  0.87927056  0.92584198\n",
      "  0.79788002  1.01157675  0.9222379  -0.03619926 -0.09539378  0.04514834\n",
      "  0.02181241 -0.06818301]\n"
     ]
    },
    {
     "data": {
      "image/png": "[encoded data removed]",
      "text/plain": [
       "<Figure size 432x288 with 1 Axes>"
      ]
     },
     "metadata": {
      "needs_background": "light"
     },
     "output_type": "display_data"
    },
    {
     "name": "stdout",
     "output_type": "stream",
     "text": [
      "beta_init = [0. 0. 0. 0. 0. 0. 0. 0. 0. 0. 0. 0. 0. 0. 0. 0. 0. 0. 0. 0.], learning rate = 0.01, sub = 100\n",
      "0th iteration: loss = 0.6931\n",
      "100th iteration: loss = 0.3014\n",
      "200th iteration: loss = 0.3051\n",
      "300th iteration: loss = 0.3027\n",
      "400th iteration: loss = 0.3067\n",
      "500th iteration: loss = 0.3035\n",
      "600th iteration: loss = 0.3031\n",
      "700th iteration: loss = 0.3027\n",
      "800th iteration: loss = 0.3039\n",
      "900th iteration: loss = 0.3015\n",
      "999th iteration: loss = 0.3031, beta = [ 1.03118074e+00  1.02028617e+00  9.24169092e-01  1.01950906e+00\n",
      "  1.08158052e+00  1.05144618e+00  1.19312581e+00  9.93306652e-01\n",
      "  1.05902072e+00  1.10685579e+00  8.92958864e-01  8.88176847e-01\n",
      "  1.06686737e+00  8.60182178e-01  8.92491626e-01 -9.06278318e-02\n",
      " -7.04542507e-02 -5.17480793e-04 -1.95322608e-02  5.61247664e-02]\n"
     ]
    },
    {
     "data": {
      "image/png": "[encoded data removed]",
      "text/plain": [
       "<Figure size 432x288 with 1 Axes>"
      ]
     },
     "metadata": {
      "needs_background": "light"
     },
     "output_type": "display_data"
    }
   ],
   "source": [
    "subs = [1, 10, 100]\n",
    "for sub in subs:\n",
    "    SGD = StochasticGradientDescent(getLoss, getGrad, X, y, b_init, .01, sub)\n",
    "    SGD.SGD()\n",
    "    SGD.draw_loss()"
   ]
  }
 ],
 "metadata": {
  "kernelspec": {
   "display_name": "Python 3",
   "language": "python",
   "name": "python3"
  },
  "language_info": {
   "codemirror_mode": {
    "name": "ipython",
    "version": 3
   },
   "file_extension": ".py",
   "mimetype": "text/x-python",
   "name": "python",
   "nbconvert_exporter": "python",
   "pygments_lexer": "ipython3",
   "version": "3.7.6"
  },
  "toc": {
   "base_numbering": 1,
   "nav_menu": {},
   "number_sections": false,
   "sideBar": true,
   "skip_h1_title": false,
   "title_cell": "Table of Contents",
   "title_sidebar": "Contents",
   "toc_cell": false,
   "toc_position": {
    "height": "calc(100% - 180px)",
    "left": "10px",
    "top": "150px",
    "width": "165px"
   },
   "toc_section_display": true,
   "toc_window_display": true
  },
  "varInspector": {
   "cols": {
    "lenName": 16,
    "lenType": 16,
    "lenVar": 40
   },
   "kernels_config": {
    "python": {
     "delete_cmd_postfix": "",
     "delete_cmd_prefix": "del ",
     "library": "var_list.py",
     "varRefreshCmd": "print(var_dic_list())"
    },
    "r": {
     "delete_cmd_postfix": ") ",
     "delete_cmd_prefix": "rm(",
     "library": "var_list.r",
     "varRefreshCmd": "cat(var_dic_list()) "
    }
   },
   "types_to_exclude": [
    "module",
    "function",
    "builtin_function_or_method",
    "instance",
    "_Feature"
   ],
   "window_display": false
  }
 },
 "nbformat": 4,
 "nbformat_minor": 4
}
