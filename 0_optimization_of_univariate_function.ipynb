{
  "nbformat": 4,
  "nbformat_minor": 0,
  "metadata": {
    "colab": {
      "name": "0. optimization of univariate function.ipynb",
      "provenance": [],
      "collapsed_sections": [],
      "toc_visible": true
    },
    "kernelspec": {
      "display_name": "Python 3",
      "language": "python",
      "name": "python3"
    },
    "language_info": {
      "codemirror_mode": {
        "name": "ipython",
        "version": 3
      },
      "file_extension": ".py",
      "mimetype": "text/x-python",
      "name": "python",
      "nbconvert_exporter": "python",
      "pygments_lexer": "ipython3",
      "version": "3.7.6"
    },
    "toc": {
      "base_numbering": 1,
      "nav_menu": {},
      "number_sections": false,
      "sideBar": true,
      "skip_h1_title": false,
      "title_cell": "Table of Contents",
      "title_sidebar": "Contents",
      "toc_cell": false,
      "toc_position": {},
      "toc_section_display": true,
      "toc_window_display": true
    },
    "varInspector": {
      "cols": {
        "lenName": 16,
        "lenType": 16,
        "lenVar": 40
      },
      "kernels_config": {
        "python": {
          "delete_cmd_postfix": "",
          "delete_cmd_prefix": "del ",
          "library": "var_list.py",
          "varRefreshCmd": "print(var_dic_list())"
        },
        "r": {
          "delete_cmd_postfix": ") ",
          "delete_cmd_prefix": "rm(",
          "library": "var_list.r",
          "varRefreshCmd": "cat(var_dic_list()) "
        }
      },
      "types_to_exclude": [
        "module",
        "function",
        "builtin_function_or_method",
        "instance",
        "_Feature"
      ],
      "window_display": false
    }
  },
  "cells": [
    {
      "cell_type": "markdown",
      "metadata": {
        "colab_type": "text",
        "id": "QOTaJxSsXxjx"
      },
      "source": [
        "# ***OPTIMIZATION OF UNIVARIATE FUNCTIONS***"
      ]
    },
    {
      "cell_type": "markdown",
      "metadata": {
        "colab_type": "text",
        "id": "2Jz1JScXXxjz"
      },
      "source": [
        ">* We assume that $f$ is a univariate real function  \n",
        "    $f : \\mathcal{D} \\subset \\mathbb{R} \\rightarrow \\mathbb{R}$  \n",
        "    that has only one exact minimizer  $x^{*} = argmin_{x \\in \\mathcal{D}}f(x)$  \n",
        "    for convenience, we assume that $\\mathcal{D} = [a, b]$ for some constants $a, b \\in \\mathbb{R}$ if there is no specification    \n",
        "* Several algorithms for obtaining a sequence $\\{x_n \\}_{n \\ge 1}$ in $\\mathcal{D}$ that satisfies  \n",
        "    $\\exists n \\in \\mathbb{N} \\quad s.t. |x_n-x^{*}| < \\epsilon$  for a given error bound $\\epsilon > 0$  \n",
        "* Put $\\hat{x} = x_n$ as an approximated minimizer of $f$"
      ]
    },
    {
      "cell_type": "markdown",
      "metadata": {
        "colab_type": "text",
        "id": "tbBJY32wXxjz"
      },
      "source": [
        "---\n",
        "## **1. Grid Search Algorithm**"
      ]
    },
    {
      "cell_type": "markdown",
      "metadata": {
        "colab_type": "text",
        "id": "Fo-hAgwKXxj0"
      },
      "source": [
        "### **[type1]**  \n",
        ">1. Take an interger $n>0$ such that $h=(b-a)/n <\\epsilon$  \n",
        "2. Construct a set of candidate points $\\mathcal{S}$, where  \n",
        "$S = \\{ z_0=a, \\cdots , z_k=a+kh, \\cdots, z_n=b\\}$  \n",
        "3. Then find a value in $\\mathcal{S}$ that makes $f$ the smallest, that is, \n",
        "$\\hat{x}=argmin_{z \\in \\mathcal{S}}|f(z)|$  \n",
        "\n",
        "* **Computational cost**  \n",
        "    : If should try unexpectedly many values(too large $n$) then it is better to give up.   \n",
        "* **Although the grid search algorithm has such a deficiency, it must be a starting point of solving problem.**  \n",
        "* **If $f$ is not continuous, sometimes the grid search is the only possible method.**"
      ]
    },
    {
      "cell_type": "markdown",
      "metadata": {
        "colab_type": "text",
        "id": "pgIGy50vXxj1"
      },
      "source": [
        "### **[type2]**  \n",
        ">1. Take an integer $n>0$ such that $h=(b-a)/n < \\epsilon$ and set $x_1=a$  \n",
        "2. For $k=1, 2, \\cdots, $   \n",
        "    1) Set $x_{n+1} = x_n + h = a+nh$  \n",
        "    2) If $f(x_{n+1})>f(x_n)$ then stop.  \n",
        "3. Set $\\hat{x}=x_n$  \n",
        "\n",
        "* **Computational cost**  \n",
        ": The algorithm type2 can reduce computational cost. "
      ]
    },
    {
      "cell_type": "markdown",
      "metadata": {
        "colab_type": "text",
        "id": "sqoyVOJ7Xxj1"
      },
      "source": [
        "### **[type3]**  \n",
        ">1. Take an integer $m>0$ (a fixed constant, e.g., $m=10$ is sufficient)  \n",
        "2. Set $a_1=a, b_1=b$ and $x_1 = (a_1+b_1)/2$  \n",
        "3. For $n=1, 2, \\cdots, $  \n",
        "    * Set $z_1=a_n$ and $h_n=(b_n-a_n)/m$  \n",
        "    * For $k=1, 2, \\cdots, $  \n",
        "        + Set $z_{k+1}=z_k+h_n=a_n+kh_n$  \n",
        "        + If $f(z_{k+1}) > f(z_k)$ then stop  \n",
        "    * Set $a_{n+1}=max \\{a_n, z_n-h_n\\}, b_{n+1}=z_{k+1}$ and $x_{n+1}=(a_{n+1}+b_{n+1})/2$  \n",
        "    * If $|x_{n+1}-x_n|<\\epsilon$ then stop  \n",
        "4. Set $\\hat{x}=x_n$  \n",
        "\n",
        "* **Computational cost**  \n",
        ": Reducing the computational cost further."
      ]
    },
    {
      "cell_type": "markdown",
      "metadata": {
        "colab_type": "text",
        "id": "XZmnEUG5Xxj2"
      },
      "source": [
        "### **[example1]**  \n",
        "* **Minimizing a quadratic function**  \n",
        ": Let's minimize a quadratic function $f(x)=exp(-x)+x^2$"
      ]
    },
    {
      "cell_type": "code",
      "metadata": {
        "colab_type": "code",
        "id": "x0Ri3U4TXxj3",
        "colab": {}
      },
      "source": [
        "import numpy as np\n",
        "import matplotlib.pyplot as plt\n",
        "%matplotlib inline\n",
        "import pandas as pd"
      ],
      "execution_count": null,
      "outputs": []
    },
    {
      "cell_type": "code",
      "metadata": {
        "colab_type": "code",
        "id": "N9lEzC0yXxj7",
        "colab": {}
      },
      "source": [
        "def exp_fn(x):\n",
        "    return np.exp(-x) + x**2"
      ],
      "execution_count": null,
      "outputs": []
    },
    {
      "cell_type": "code",
      "metadata": {
        "colab_type": "code",
        "id": "D5J4W2JDXxj-",
        "colab": {},
        "outputId": "f8342bd7-b067-4ce1-9d4e-fbc47a2ea3db"
      },
      "source": [
        "x = np.linspace(-3, 3, 100)\n",
        "y = exp_fn(x)\n",
        "plt.plot(x, y)\n",
        "plt.show()"
      ],
      "execution_count": null,
      "outputs": [
        {
          "output_type": "display_data",
          "data": {
            "image/png": "[encoded data removed]",
            "text/plain": [
              "<Figure size 432x288 with 1 Axes>"
            ]
          },
          "metadata": {
            "tags": [],
            "needs_background": "light"
          }
        }
      ]
    },
    {
      "cell_type": "markdown",
      "metadata": {
        "colab_type": "text",
        "id": "oQ8ZT-4MXxkD"
      },
      "source": [
        "***Grid Search Algorithm - type1***"
      ]
    },
    {
      "cell_type": "code",
      "metadata": {
        "colab_type": "code",
        "id": "uONwjwdpXxkE",
        "colab": {}
      },
      "source": [
        "def gridSearch1(a, b, grid_n=10, eps=1e-7):\n",
        "    x = np.linspace(a, b, grid_n)\n",
        "    y = exp_fn(x)\n",
        "    idx_min = y.argmin()\n",
        "    return x[idx_min], y[idx_min]"
      ],
      "execution_count": null,
      "outputs": []
    },
    {
      "cell_type": "code",
      "metadata": {
        "colab_type": "code",
        "id": "W1YbmeBmXxkG",
        "colab": {},
        "outputId": "ede873d6-15fe-47af-809f-0658ca4566f2"
      },
      "source": [
        "a = -3\n",
        "b = 3\n",
        "gridSearch1(a, b)"
      ],
      "execution_count": null,
      "outputs": [
        {
          "output_type": "execute_result",
          "data": {
            "text/plain": [
              "(0.33333333333333304, 0.8276424216849004)"
            ]
          },
          "metadata": {
            "tags": []
          },
          "execution_count": 142
        }
      ]
    },
    {
      "cell_type": "markdown",
      "metadata": {
        "colab_type": "text",
        "id": "6TZjGOfnXxkJ"
      },
      "source": [
        "***Grid Search Algorithm - type2***"
      ]
    },
    {
      "cell_type": "code",
      "metadata": {
        "colab_type": "code",
        "id": "4ni2NRCpXxkJ",
        "colab": {}
      },
      "source": [
        "def gridSearch2(a, b, grid_n=10, eps=1e-7):\n",
        "    x = np.linspace(a, b, grid_n)\n",
        "    for i in range(grid_n - 1):\n",
        "        left = exp_fn(x[i])\n",
        "        right = exp_fn(x[i + 1])\n",
        "        if left < right:\n",
        "            break\n",
        "    return x[i], left"
      ],
      "execution_count": null,
      "outputs": []
    },
    {
      "cell_type": "code",
      "metadata": {
        "colab_type": "code",
        "id": "Pisn_e00XxkN",
        "colab": {},
        "outputId": "79bde17b-4cec-48f3-d119-29f80b864cb1"
      },
      "source": [
        "gridSearch2(a, b)"
      ],
      "execution_count": null,
      "outputs": [
        {
          "output_type": "execute_result",
          "data": {
            "text/plain": [
              "(0.33333333333333304, 0.8276424216849004)"
            ]
          },
          "metadata": {
            "tags": []
          },
          "execution_count": 144
        }
      ]
    },
    {
      "cell_type": "markdown",
      "metadata": {
        "colab_type": "text",
        "id": "PjA2eMTHXxkR"
      },
      "source": [
        "***Grid Search Algorithm - type3***"
      ]
    },
    {
      "cell_type": "code",
      "metadata": {
        "colab_type": "code",
        "id": "zLxmHTv9XxkR",
        "colab": {}
      },
      "source": [
        "def gridSearch3(a, b, grid_n=10, eps=1e-7, iter_max=1000):\n",
        "    for i in range(iter_max):\n",
        "        if b - a < eps: break\n",
        "        x = np.linspace(a, b, grid_n)\n",
        "        for j in range(1, (grid_n - 1)):\n",
        "            c = exp_fn(x[j])\n",
        "            d = exp_fn(x[j + 1])\n",
        "            if d > c: break\n",
        "        a = x[j - 1]\n",
        "        b = x[j + 1]\n",
        "        print(a, b)\n",
        "    x_min = a\n",
        "    f_min = exp_fn(a)\n",
        "    return x_min, f_min, i"
      ],
      "execution_count": null,
      "outputs": []
    },
    {
      "cell_type": "code",
      "metadata": {
        "colab_type": "code",
        "id": "IXFt_Zr_XxkU",
        "colab": {},
        "outputId": "6c2a9a62-6c69-4e42-a2de-a0f28968d5cb"
      },
      "source": [
        "gridSearch3(a, b)"
      ],
      "execution_count": null,
      "outputs": [
        {
          "output_type": "stream",
          "text": [
            "-0.3333333333333335 1.0\n",
            "0.2592592592592592 0.5555555555555556\n",
            "0.3251028806584362 0.39094650205761317\n",
            "0.34705075445816186 0.3616826703246456\n",
            "0.3503022913173805 0.3535538281765991\n",
            "0.35138613693712 0.35210870068361305\n",
            "0.35162699151928434 0.35178756124072724\n",
            "0.35171619692008593 0.3517518790804066\n",
            "0.35172809097352614 0.3517360203424863\n",
            "0.351732496178504 0.35173425826049515\n",
            "0.3517334751129435 0.35173386668671935\n",
            "0.3517336491457328 0.3517337361621274\n"
          ],
          "name": "stdout"
        },
        {
          "output_type": "execute_result",
          "data": {
            "text/plain": [
              "(0.3517336491457328, 0.8271840261275295, 12)"
            ]
          },
          "metadata": {
            "tags": []
          },
          "execution_count": 146
        }
      ]
    },
    {
      "cell_type": "markdown",
      "metadata": {
        "colab_type": "text",
        "id": "WvuzQnPYXxkX"
      },
      "source": [
        "### **[example2]**  \n",
        "**Assume that we have $n$ samples $y_1, \\cdots, y_n$. Let's minimize followings.**  \n",
        "* **Least Sqaure Loss**  \n",
        ">$f(\\mu) = \\sum^{n}_{i=1}L(y_i-\\mu)$ , where $L(t)=t^2$  \n",
        "Apply the Grid Search algorithm with $a=min\\{y_1, \\cdots, y_n\\}$ and $b=max\\{y_1, \\cdots, y_n\\}$.  \n",
        "The true minimizer $\\mu^{*} = \\bar{y} = (y_1, \\cdots, y_n)/n$  \n",
        "\n",
        "* **Absolute Deviation Loss**\n",
        ">$f(\\mu) = \\sum^{n}_{i=1}L(y_i-\\mu)$ , where $L(t)=|t|$  \n",
        "Apply the Grid Search algorithm with $a=min\\{y_1, \\cdots, y_n\\}$ and $b=max\\{y_1, \\cdots, y_n\\}$.  \n",
        "The true minimizer $\\mu^{*} = median(y_1, \\cdots, y_n)$  \n",
        "\n",
        "* **Least Absolute Shrinkage and Selecton Operator :LASSO**  \n",
        ">$f(\\mu) = \\sum^{n}_{i=1}L(y_i-\\mu) + \\lambda|\\mu|$ , for $\\lambda>0$, where $L$ can be any kind of loss.  \n",
        "Apply the Grid Search algorithm with $a=min\\{y_1, \\cdots, y_n\\}$ and $b=max\\{y_1, \\cdots, y_n\\}$.  \n",
        "The true minimizer $\\mu^{*} = sign(\\bar{y})(|\\bar{y}|-\\lambda)_{+}$, where $x_{+} = xI(x>0)$ for the square loss "
      ]
    },
    {
      "cell_type": "code",
      "metadata": {
        "colab_type": "code",
        "id": "GaTcDRoIXxkY",
        "colab": {}
      },
      "source": [
        "def getLoss(y, mu, method, lam):\n",
        "    if method == 'abs':\n",
        "        loss = np.abs(y - mu).mean()\n",
        "    elif method == 'lasso':\n",
        "        loss = np.mean((y - mu)**2) + lam * np.abs(mu)\n",
        "    else:\n",
        "        loss = np.mean((y - mu)**2)\n",
        "    return loss"
      ],
      "execution_count": null,
      "outputs": []
    },
    {
      "cell_type": "code",
      "metadata": {
        "colab_type": "code",
        "id": "LkvTj3kBXxkd",
        "colab": {}
      },
      "source": [
        "def gridSearch(y, method, lam=1, grid_n=10, eps=1e-7, iter_max=100):\n",
        "    a = y.min()\n",
        "    b = y.max()\n",
        "    for i in range(iter_max):\n",
        "        if b - a < eps: break\n",
        "        mu = np.linspace(a, b, grid_n)\n",
        "        for j in range(1, grid_n - 1):\n",
        "            c = getLoss(y, mu[j], method, lam)\n",
        "            d = getLoss(y, mu[j + 1], method, lam)\n",
        "            if d > c: break\n",
        "        a = mu[j - 1]\n",
        "        b = mu[j + 1]\n",
        "    return a"
      ],
      "execution_count": null,
      "outputs": []
    },
    {
      "cell_type": "code",
      "metadata": {
        "colab_type": "code",
        "id": "ilXZeA_gXxkf",
        "colab": {},
        "outputId": "6156de2f-98ee-4349-d435-cad21a3906d6"
      },
      "source": [
        "n = 100\n",
        "y = np.random.uniform(size=n)\n",
        "print(gridSearch(y, 'sq'), y.mean())\n",
        "print(gridSearch(y, 'abs'), np.median(y))"
      ],
      "execution_count": null,
      "outputs": [
        {
          "output_type": "stream",
          "text": [
            "0.5029012092476891 0.5029012403174246\n",
            "0.4994848201202787 0.49873023310463754\n"
          ],
          "name": "stdout"
        }
      ]
    },
    {
      "cell_type": "code",
      "metadata": {
        "colab_type": "code",
        "id": "A_Mev6E1Xxkh",
        "colab": {}
      },
      "source": [
        "result = []\n",
        "true = []\n",
        "lam = np.linspace(0.1, 2, 10)\n",
        "for l in lam:\n",
        "    y_mean = y.mean()\n",
        "    mu_star = np.sign(y_mean)*(abs(y_mean) - l)*(abs(y_mean) > l)\n",
        "    true.append(mu_star)\n",
        "    result.append(gridSearch(y, 'lasso', l))"
      ],
      "execution_count": null,
      "outputs": []
    },
    {
      "cell_type": "code",
      "metadata": {
        "colab_type": "code",
        "id": "ZoAw0Z0jXxkm",
        "colab": {},
        "outputId": "febcaad7-83da-45a3-ea84-5ad031c2a52f"
      },
      "source": [
        "pd.DataFrame([lam, result, true], index=['lambda', 'mu_hat', 'mu_star']).T"
      ],
      "execution_count": null,
      "outputs": [
        {
          "output_type": "execute_result",
          "data": {
            "text/html": [
              "<div>\n",
              "<style scoped>\n",
              "    .dataframe tbody tr th:only-of-type {\n",
              "        vertical-align: middle;\n",
              "    }\n",
              "\n",
              "    .dataframe tbody tr th {\n",
              "        vertical-align: top;\n",
              "    }\n",
              "\n",
              "    .dataframe thead th {\n",
              "        text-align: right;\n",
              "    }\n",
              "</style>\n",
              "<table border=\"1\" class=\"dataframe\">\n",
              "  <thead>\n",
              "    <tr style=\"text-align: right;\">\n",
              "      <th></th>\n",
              "      <th>lambda</th>\n",
              "      <th>mu_hat</th>\n",
              "      <th>mu_star</th>\n",
              "    </tr>\n",
              "  </thead>\n",
              "  <tbody>\n",
              "    <tr>\n",
              "      <th>0</th>\n",
              "      <td>0.100000</td>\n",
              "      <td>0.452901</td>\n",
              "      <td>0.402901</td>\n",
              "    </tr>\n",
              "    <tr>\n",
              "      <th>1</th>\n",
              "      <td>0.311111</td>\n",
              "      <td>0.347346</td>\n",
              "      <td>0.191790</td>\n",
              "    </tr>\n",
              "    <tr>\n",
              "      <th>2</th>\n",
              "      <td>0.522222</td>\n",
              "      <td>0.241790</td>\n",
              "      <td>-0.000000</td>\n",
              "    </tr>\n",
              "    <tr>\n",
              "      <th>3</th>\n",
              "      <td>0.733333</td>\n",
              "      <td>0.136235</td>\n",
              "      <td>-0.000000</td>\n",
              "    </tr>\n",
              "    <tr>\n",
              "      <th>4</th>\n",
              "      <td>0.944444</td>\n",
              "      <td>0.030679</td>\n",
              "      <td>-0.000000</td>\n",
              "    </tr>\n",
              "    <tr>\n",
              "      <th>5</th>\n",
              "      <td>1.155556</td>\n",
              "      <td>0.002006</td>\n",
              "      <td>-0.000000</td>\n",
              "    </tr>\n",
              "    <tr>\n",
              "      <th>6</th>\n",
              "      <td>1.366667</td>\n",
              "      <td>0.002006</td>\n",
              "      <td>-0.000000</td>\n",
              "    </tr>\n",
              "    <tr>\n",
              "      <th>7</th>\n",
              "      <td>1.577778</td>\n",
              "      <td>0.002006</td>\n",
              "      <td>-0.000000</td>\n",
              "    </tr>\n",
              "    <tr>\n",
              "      <th>8</th>\n",
              "      <td>1.788889</td>\n",
              "      <td>0.002006</td>\n",
              "      <td>-0.000000</td>\n",
              "    </tr>\n",
              "    <tr>\n",
              "      <th>9</th>\n",
              "      <td>2.000000</td>\n",
              "      <td>0.002006</td>\n",
              "      <td>-0.000000</td>\n",
              "    </tr>\n",
              "  </tbody>\n",
              "</table>\n",
              "</div>"
            ],
            "text/plain": [
              "     lambda    mu_hat   mu_star\n",
              "0  0.100000  0.452901  0.402901\n",
              "1  0.311111  0.347346  0.191790\n",
              "2  0.522222  0.241790 -0.000000\n",
              "3  0.733333  0.136235 -0.000000\n",
              "4  0.944444  0.030679 -0.000000\n",
              "5  1.155556  0.002006 -0.000000\n",
              "6  1.366667  0.002006 -0.000000\n",
              "7  1.577778  0.002006 -0.000000\n",
              "8  1.788889  0.002006 -0.000000\n",
              "9  2.000000  0.002006 -0.000000"
            ]
          },
          "metadata": {
            "tags": []
          },
          "execution_count": 150
        }
      ]
    },
    {
      "cell_type": "markdown",
      "metadata": {
        "colab_type": "text",
        "id": "hr5s5uP3Xxkp"
      },
      "source": [
        "## **2. Bisection Algorithm**"
      ]
    },
    {
      "cell_type": "markdown",
      "metadata": {
        "colab_type": "text",
        "id": "bVlQEjYuXxkp"
      },
      "source": [
        "* **Root Finding Problem**  \n",
        ": Find a root or solution $x^*$ of the equation $g(x) = 0, x \\in [a, b]$  \n",
        ", where g is continuous and $g(a)g(b) < 0$  \n",
        ": Recall that this is equivalent to finding the unique minimizer of $f$, if $g(x) = \\frac{df(x)}{dx}$ is strictly convex  \n",
        "\n",
        "* **Intermediate value theorem**  \n",
        ": Suppose $g:[a, b] \\rightarrow \\mathbb{R}$ is continuous, $g(a)$ and $g(b)$ are of opposite sign.  \n",
        "Then there exists a point $x \\in (a, b)$ such that $g(x)=0$  \n",
        "\n",
        ">1. Set $a_1=a, b_1=b$ and $x_1 = (a+b)/2$  \n",
        "2. For $n=1, 2, \\cdots$  \n",
        "    (1) If $g(x_n)g(a_n) > 0$ then set $a_{n+1}=x_n$ and $b_{b+1} = b_n$  \n",
        "    If $g(x_n)g(a_n) < 0$ then set $a_{n+1}=a_n$ and $b_{b+1} = x_n$  \n",
        "    (2) Set $x_{n+1} = (a_{n+1}+b_{n+1})/2$  \n",
        "    (3) If $|x_{n+1}-x_n| < \\epsilon$ then stop\n",
        "3. set $\\hat{x}=x_n$\n",
        "\n",
        "- Note that $x^* \\in (a_n, b_n)$ for any $n \\in \\mathbb{N}$     \n",
        "    "
      ]
    },
    {
      "cell_type": "markdown",
      "metadata": {
        "colab_type": "text",
        "id": "-bAsM1iCXxkq"
      },
      "source": [
        "### **[example 1]**  \n",
        "* **Shortest Confidence Interval**  \n",
        ": Let $f: \\mathcal{D} \\rightarrow \\mathbb{R}$ be a continuous density function that is unimodel, that is, $f$ has the only maximizer.  \n",
        "    + For a given constant $\\alpha \\in (0, 1)$, we want to find the shortest confidence interval with confidence level $\\alpha$, $I_{\\alpha} = [\\mathit{l}_{\\alpha}, \\mathit{u}_{\\alpha}]$, that satisfies $F(\\mathit{l}_{\\alpha}) - F(\\mathit{u}_{\\alpha}) = \\alpha$, where $F(x) = \\int^{x}_{-\\infty}f(z)dz$ is the distribution fucntion  \n",
        "    + $I_{\\alpha}$ must satisfy $f(\\mathit{l}_{\\alpha}) = f(\\mathit{u}_{\\alpha}) = \\lambda_{\\alpha}$ for some constant $\\lambda_{\\alpha}>0$  \n",
        "    + Hence, the problem is equivalent to finding $\\lambda_{\\alpha}$ that is a solution of the equation $g(\\lambda) \\equiv F(b_{\\lambda}) - F(\\alpha_{\\lambda}) - \\alpha = 0$, where $f(a_{\\lambda}) = f(b_{\\lambda}) = \\lambda$"
      ]
    },
    {
      "cell_type": "code",
      "metadata": {
        "colab_type": "code",
        "id": "f-nRqiroXxkq",
        "colab": {}
      },
      "source": [
        "import scipy.stats as stats"
      ],
      "execution_count": null,
      "outputs": []
    },
    {
      "cell_type": "code",
      "metadata": {
        "colab_type": "code",
        "id": "3MR_lZNrXxku",
        "colab": {},
        "outputId": "3bb41e9e-6ee5-4a24-c47a-b58f636d0fca"
      },
      "source": [
        "dist = stats.norm(0, 1)\n",
        "b = np.linspace(-3, 3, 100)\n",
        "pdf = dist.pdf(b)\n",
        "\n",
        "plt.plot(b, pdf)\n",
        "plt.title(\"probability density function\")\n",
        "plt.xlabel(\"$x$\")\n",
        "plt.ylabel(\"$p(x)$\")\n",
        "plt.show()"
      ],
      "execution_count": null,
      "outputs": [
        {
          "output_type": "display_data",
          "data": {
            "image/png": "[encoded data removed]",
            "text/plain": [
              "<Figure size 432x288 with 1 Axes>"
            ]
          },
          "metadata": {
            "tags": [],
            "needs_background": "light"
          }
        }
      ]
    },
    {
      "cell_type": "markdown",
      "metadata": {
        "colab_type": "text",
        "id": "fQ6fzXE4Xxkx"
      },
      "source": [
        "$f(b_{\\lambda}) = \\lambda \\Leftrightarrow f(b_{\\lambda}) -\\lambda = 0$"
      ]
    },
    {
      "cell_type": "code",
      "metadata": {
        "colab_type": "code",
        "id": "GFFsIqBhXxkx",
        "colab": {}
      },
      "source": [
        "def getDiff(b, lam):\n",
        "    dist = stats.norm(0, 1)\n",
        "    pdf = dist.pdf(b)\n",
        "    return pdf - lam"
      ],
      "execution_count": null,
      "outputs": []
    },
    {
      "cell_type": "code",
      "metadata": {
        "colab_type": "code",
        "id": "WXSDwPKTXxk0",
        "colab": {}
      },
      "source": [
        "def findPoint(lam, b_min=0, b_max=6, eps=1e-7, iter_max=100):\n",
        "    for i in range(iter_max):\n",
        "        b_cen = (b_max + b_min) / 2\n",
        "        if getDiff(b_cen, lam) * getDiff(b_max, lam) > 0:\n",
        "            b_max = b_cen\n",
        "        else:\n",
        "            b_min = b_cen\n",
        "        if b_max - b_min < eps: break\n",
        "    return b_cen"
      ],
      "execution_count": null,
      "outputs": []
    },
    {
      "cell_type": "code",
      "metadata": {
        "colab_type": "code",
        "id": "Dn5D5SaSXxk3",
        "colab": {},
        "outputId": "4b84e057-02d7-44ee-b132-6cac57002718"
      },
      "source": [
        "print(dist.pdf(findPoint(0.3))) # =lam\n",
        "print(dist.pdf(-findPoint(0.3))) # =lam"
      ],
      "execution_count": null,
      "outputs": [
        {
          "output_type": "stream",
          "text": [
            "0.2999999913223477\n",
            "0.2999999913223477\n"
          ],
          "name": "stdout"
        }
      ]
    },
    {
      "cell_type": "markdown",
      "metadata": {
        "colab_type": "text",
        "id": "pnO0blYEXxk6"
      },
      "source": [
        "$g(\\lambda) \\equiv F(b_\\lambda) - F(a_\\lambda) - \\alpha = 0$"
      ]
    },
    {
      "cell_type": "code",
      "metadata": {
        "colab_type": "code",
        "id": "mtN5G8KDXxk7",
        "colab": {}
      },
      "source": [
        "def getCi(alpha, eps=1e-7, iter_max=1000):\n",
        "    dist = stats.norm(0, 1)\n",
        "    l_max = dist.pdf(0) - 1e-5\n",
        "    l_min = 1e-5\n",
        "    for i in range(iter_max):\n",
        "        l_cen = (l_max + l_min) / 2\n",
        "        b_max = findPoint(l_max)\n",
        "        b_cen = findPoint(l_cen)\n",
        "        g_max = dist.cdf(b_max) - dist.cdf(-b_max) - alpha\n",
        "        g_cen = dist.cdf(b_cen) - dist.cdf(-b_cen) - alpha\n",
        "        if g_max*g_cen > 0: l_max = l_cen\n",
        "        else: l_min = l_cen\n",
        "        if l_max - l_min < eps: break\n",
        "    u_lam = findPoint(l_max)\n",
        "    l_lam = -u_lam\n",
        "    return l_lam, u_lam"
      ],
      "execution_count": null,
      "outputs": []
    },
    {
      "cell_type": "code",
      "metadata": {
        "colab_type": "code",
        "id": "czrONttoXxk-",
        "colab": {},
        "outputId": "5ff9a4e3-b940-404d-9915-9290d5e13bc0"
      },
      "source": [
        "ci = getCi(alpha=0.95)\n",
        "print(ci)\n",
        "print(dist.cdf(ci[1])-dist.cdf(ci[0]))"
      ],
      "execution_count": null,
      "outputs": [
        {
          "output_type": "stream",
          "text": [
            "(-1.9599635303020477, 1.9599635303020477)\n",
            "0.9499999469040323\n"
          ],
          "name": "stdout"
        }
      ]
    },
    {
      "cell_type": "markdown",
      "metadata": {
        "colab_type": "text",
        "id": "X2YqWSSwXxlA"
      },
      "source": [
        "### **[example 2]**  \n",
        "* **Huber Loss**  \n",
        ": Assume that we have $n$ samples $y_1, \\cdots, y_n$ and want to minimize $f(\\mu) = \\sum^{n}_{i=1}L_{\\delta}(y_i-\\mu)$  \n",
        ",where $L_{\\delta}(t) = t^2I(|t|<\\delta) + (2\\delta|t| - \\delta^{2})I(|t| \\ge \\delta)$ for some constant $\\delta > 0$  \n",
        "    + $\\frac{dL_{\\delta}(t)}{dt} = 2tI(|t| < \\delta) + 2\\delta sign(t)I(|t| \\ge \\delta)$  \n",
        "    + the problem is equivalent to solve  \n",
        "    $g(\\mu) \\equiv \\frac{df(\\mu)}{d\\mu} = \\sum^{n}_{i=1}\\frac{dL_{\\delta}(t)}{dt}\\frac{dt}{d\\mu}$, $t = y_i - \\mu$  \n",
        "    $= \\sum^{n}_{i=1}\\{2(\\mu-y_i)I(|\\mu-y_i|<\\delta)+2\\delta sign(\\mu-y_i)I(|\\mu-y_i| \\ge \\delta)\\}$  \n",
        "    $=0$\n",
        "    "
      ]
    },
    {
      "cell_type": "code",
      "metadata": {
        "colab_type": "code",
        "id": "LItKhLcIXxlB",
        "colab": {}
      },
      "source": [
        "def huberLoss(y, mu, delta):\n",
        "    diff = mu - y\n",
        "    loss = sum(2*np.minimum(abs(diff), delta)*np.sign(diff))\n",
        "    return loss"
      ],
      "execution_count": null,
      "outputs": []
    },
    {
      "cell_type": "code",
      "metadata": {
        "colab_type": "code",
        "id": "0QpDMQO3XxlG",
        "colab": {},
        "outputId": "fe1739c1-2349-4b0f-cc03-75ca55c16fdc"
      },
      "source": [
        "# plot when delta = 1\n",
        "n = 100\n",
        "delta = 1\n",
        "y = np.random.normal(0, 1, n)\n",
        "mu = np.linspace(-5, 5, n)\n",
        "loss = []\n",
        "for m in mu:\n",
        "    loss.append(huberLoss(y, m, delta))\n",
        "\n",
        "plt.plot(mu, loss)\n",
        "plt.show()"
      ],
      "execution_count": null,
      "outputs": [
        {
          "output_type": "display_data",
          "data": {
            "image/png": "[encoded data removed]",
            "text/plain": [
              "<Figure size 432x288 with 1 Axes>"
            ]
          },
          "metadata": {
            "tags": [],
            "needs_background": "light"
          }
        }
      ]
    },
    {
      "cell_type": "code",
      "metadata": {
        "colab_type": "code",
        "id": "WIKP5mESXxlM",
        "colab": {}
      },
      "source": [
        "def huberBisection(y, delta=1, eps=1e-7, iter_max=1000):\n",
        "    b_min = y.min()\n",
        "    b_max = y.max()\n",
        "    for i in range(iter_max):\n",
        "        b_cen = (b_min + b_max) / 2\n",
        "        loss_min = huberLoss(y, b_min, delta)\n",
        "        loss_cen = huberLoss(y, b_cen, delta)\n",
        "        if loss_min * loss_cen > 0: b_min = b_cen\n",
        "        else: b_max = b_cen\n",
        "        \n",
        "        if b_max - b_min < eps: break\n",
        "    return b_min, loss_min"
      ],
      "execution_count": null,
      "outputs": []
    },
    {
      "cell_type": "code",
      "metadata": {
        "colab_type": "code",
        "id": "kbma52PeXxlQ",
        "colab": {},
        "outputId": "0860acf7-5578-451a-d32e-49a23d854c6d"
      },
      "source": [
        "huberBisection(y)"
      ],
      "execution_count": null,
      "outputs": [
        {
          "output_type": "execute_result",
          "data": {
            "text/plain": [
              "(0.015169264857177102, -2.0618406481869023e-05)"
            ]
          },
          "metadata": {
            "tags": []
          },
          "execution_count": 194
        }
      ]
    },
    {
      "cell_type": "markdown",
      "metadata": {
        "colab_type": "text",
        "id": "LuRXQJy7XxlS"
      },
      "source": [
        "## **3. Fixed Point Iteration**"
      ]
    },
    {
      "cell_type": "markdown",
      "metadata": {
        "colab_type": "text",
        "id": "_YNk3EFTXxlT"
      },
      "source": [
        "* **Fixed Point**  \n",
        ": Let $g:[a,b] \\rightarrow [a, b]$ be a real function. If $x^* \\in [a, b]$ is a solution of the equation $g(x)=x$,  \n",
        "then we say $x^* \\in [a, b]$ is a fixed point of $g$   \n",
        ": Assume for simplicity that the fixed porint $x^* \\in [a, b] $ of $g$ is unique  \n",
        "\n",
        ">1. Set an initial $x_1 \\in [a, b]$  \n",
        "2. For $n=1, 2, \\cdots, $  \n",
        "    (1) Set $x_{n+1} = g(x_n)$  \n",
        "    (2) If $|x_{n+1}-x_n| < \\epsilon$ then stop\n",
        "3. Set $\\hat{x} = x_n$\n",
        "\n",
        "* Note that the solution $x^*$ satisfies the equation $f(x) = g(x) -x =0$"
      ]
    },
    {
      "cell_type": "markdown",
      "metadata": {
        "colab_type": "text",
        "id": "LsNlAdVpXxlT"
      },
      "source": [
        "## **4. Equal Interval Search Algorithm**"
      ]
    },
    {
      "cell_type": "markdown",
      "metadata": {
        "colab_type": "text",
        "id": "_RRo5x2OXxlU"
      },
      "source": [
        "* **Equal Interval Search Algorithm does not require differentiability**  \n",
        ": Fixed point iteration and Bisection algorithm use the idea of substituting minimization problem  \n",
        "$x^* = argmin_{x \\ in [a, b]}f(x)$  with root finding problem $\\frac{df(x)}{dx} = g(x) = 0$  \n",
        "assuming that $f$ is differetiable over $[a, b]$  \n",
        "\n",
        ">1. Set $x_1 = a$ and $y_1=b$  \n",
        "2. For $n=1, 2, \\cdots, $  \n",
        "    (1) If $|y_n-x_n|<\\epsilon$ then stop  \n",
        "    (2) Set $z_n = (x_n+y_n)/2 - \\epsilon / 2$ and $w_n = (x_n+y_n)/2 + \\epsilon /2$  \n",
        "    (3) If $f(z_n) < f(w_n)$ then set $x_{n+1} = z_n$ and $y_{n+1} = y_n$  \n",
        "    Else set $x_{n+1} = x_n$ and $y_{n+1} = w_n$  \n",
        "3. Set $\\hat{x} = x_n$\n",
        "    "
      ]
    },
    {
      "cell_type": "markdown",
      "metadata": {
        "colab_type": "text",
        "id": "8phaMSX6XxlU"
      },
      "source": [
        "## **5. Golden Section Algorithm**"
      ]
    },
    {
      "cell_type": "markdown",
      "metadata": {
        "colab_type": "text",
        "id": "uVf14G2VXxlV"
      },
      "source": [
        "* Consider a continuous function $f:[a, b] \\rightarrow \\mathbb{R}$  \n",
        ": The target is to develop an algorithm that constructs a sequence $\\{x_n\\}_{n \\ge 1}$ to obtain an approximated minimizer of $x^* = argmin_{x \\in [a, b]}f(x)$  \n",
        "\n",
        ">1. Set 3 points $x_1<x_2<x_3$ to be $f(x_2) < max\\{f(x_1), f(x_3)\\}$  \n",
        ",then it is clear that $x^* \\in [x_1, x_3]$  \n",
        "2. Next, set a new point $x_4 \\in [x_2, x_3]$  \n",
        "    (1) If $f(x_4) > f(x_2)$ then set new triple points $x_1 < x_2 < x_4$  \n",
        "    clearly, $x^* \\in [x_1, x_4]$ and $f(x_2) < max\\{f(x_1), f(x_4)\\}$  \n",
        "    (2) If $f(x_4) < f(x_2)$ then set new triple points $x_2 < x_4 < x_3$  \n",
        "    clearly, $x^* \\in [x_2, x_3]$ and $f(x_4) < max\\{f(x_2), f(x_3)\\}$  \n",
        "3. Start over with new triple points above for each case.  "
      ]
    },
    {
      "cell_type": "markdown",
      "metadata": {
        "colab_type": "text",
        "id": "AgNpJ00kXxlW"
      },
      "source": [
        "* In designing the golden section algorithm, we seek 2 goals  \n",
        "    + an optimal reduction factor that is a constant for the search  \n",
        "    + minimal number of function calls  \n",
        "\n",
        "* **Golden Ratio**  \n",
        "    + We want the triple points are equally spaced in each iteration to avoid some of them are too close.  \n",
        "    + Assume that we set $x_2$ and $x_4$ such that $x_2-x_1 = a, x_3-x_2 = b $ and $x_4-x_2=c$  \n",
        "    for some $0<a<b$ and $c>0$  \n",
        "    + We want to have $\\frac{a}{b} = \\frac{c}{a}$ and $\\frac{a}{b} = \\frac{c}{(b-c)}$  \n",
        "    + The ratio $\\gamma = \\frac{b}{a} = (\\sqrt{5}+1)/2 = 1.618033988...$ is known as the golden ratio  \n",
        "    + Let $\\alpha = 1/\\gamma = (\\sqrt{5}-1)/2 = 0.618034...$ then the four points for the first steps above become  \n",
        "    $x_1<x_2 = \\alpha x_1 + (1-\\alpha)x_3 < x_4 = (1-\\alpha)x_1 +\\alpha x_3 <x_3$"
      ]
    }
  ]
}